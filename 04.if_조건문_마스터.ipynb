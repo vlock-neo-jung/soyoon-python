{
  "cells": [
    {
      "cell_type": "markdown",
      "metadata": {
        "vscode": {
          "languageId": "raw"
        }
      },
      "source": [
        "# 🤔 if 조건문 마스터\n",
        "\n",
        "안녕하세요! 오늘은 프로그램이 스스로 판단하고 결정할 수 있게 해주는 **if 조건문**을 배워보겠습니다.\n",
        "\n",
        "- 🧠 조건문: 특정 조건에 따라 다른 동작을 하게 하는 명령어\n",
        "- 🎯 선택구조: 조건에 따라 실행할 코드를 선택하는 구조\n",
        "- 💡 실생활 예시: \"비가 오면 우산을 가져간다\", \"시험 점수가 60점 이상이면 합격\"\n",
        "\n",
        "이제 프로그램이 진짜로 똑똑해지는 순간입니다! 🚀✨\n"
      ]
    },
    {
      "cell_type": "markdown",
      "metadata": {
        "vscode": {
          "languageId": "raw"
        }
      },
      "source": [
        "## 📖 학습 내용 개요\n",
        "\n",
        "오늘 배울 조건문의 모든 내용입니다:\n",
        "\n",
        "### 1️⃣ 기본 조건문 구조\n",
        "- if-else 기본 문법\n",
        "- 조건식 작성 방법\n",
        "- 들여쓰기의 중요성\n",
        "\n",
        "### 2️⃣ 다양한 조건 판별\n",
        "- 합격/불합격 판별\n",
        "- 홀수/짝수 판별  \n",
        "- 나이에 따른 판별\n",
        "\n",
        "### 3️⃣ 다중 조건문 (elif)\n",
        "- if-elif-else 구조\n",
        "- 여러 조건을 순서대로 검사하기\n",
        "- 복잡한 판별 시스템 만들기\n",
        "\n",
        "### 4️⃣ 실용적인 응용 예제\n",
        "- 양수/음수/0 판별\n",
        "- 성적 등급 시스템\n",
        "- 실생활 문제 해결\n",
        "\n",
        "조건문을 마스터하면 진짜 똑똑한 프로그램을 만들 수 있어요!\n"
      ]
    },
    {
      "cell_type": "markdown",
      "metadata": {
        "vscode": {
          "languageId": "raw"
        }
      },
      "source": [
        "## 🏗️ 조건문의 기본 구조\n"
      ]
    },
    {
      "cell_type": "code",
      "execution_count": null,
      "metadata": {},
      "outputs": [],
      "source": [
        "# 📋 조건문의 기본 구조를 알아봅시다\n",
        "\n",
        "print(\"=== 기본 if-else 구조 ===\")\n",
        "print(\"\"\"\n",
        "기본 구조:\n",
        "if 조건식:\n",
        "    실행할 문장1  # 조건이 참일 때\n",
        "else:\n",
        "    실행할 문장2  # 조건이 거짓일 때\n",
        "\"\"\")\n",
        "\n",
        "print(\"=== 다중 조건 elif 구조 ===\")\n",
        "print(\"\"\"\n",
        "다중 조건 구조:\n",
        "if 조건식1:\n",
        "    문장1        # 조건1이 참일 때\n",
        "elif 조건식2:\n",
        "    문장2        # 조건1은 거짓, 조건2가 참일 때\n",
        "elif 조건식3:\n",
        "    문장3        # 조건1,2는 거짓, 조건3이 참일 때\n",
        "else:\n",
        "    문장4        # 모든 조건이 거짓일 때\n",
        "\"\"\")\n",
        "\n",
        "print(\"💡 중요한 규칙:\")\n",
        "print(\"1. if 뒤에는 반드시 콜론(:)을 붙입니다\")\n",
        "print(\"2. 실행할 코드는 반드시 들여쓰기(4칸 또는 Tab)를 합니다\")\n",
        "print(\"3. elif는 여러 개 사용할 수 있습니다\")\n",
        "print(\"4. else는 생략할 수 있습니다\")\n"
      ]
    },
    {
      "cell_type": "markdown",
      "metadata": {
        "vscode": {
          "languageId": "raw"
        }
      },
      "source": [
        "## 🎯 기본 조건문 예제 1: 합격/불합격 판별\n"
      ]
    },
    {
      "cell_type": "code",
      "execution_count": null,
      "metadata": {},
      "outputs": [],
      "source": [
        "# 합격/불합격 판별 프로그램\n",
        "score = int(input(\"성적을 입력하세요: \"))\n",
        "\n",
        "if score >= 60:\n",
        "    print(\"합격입니다.\")\n",
        "else:\n",
        "    print(\"불합격입니다.\")\n",
        "\n",
        "print(f\"입력한 점수: {score}점\")\n"
      ]
    },
    {
      "cell_type": "markdown",
      "metadata": {
        "vscode": {
          "languageId": "raw"
        }
      },
      "source": [
        "## 🎯 기본 조건문 예제 2: 홀수/짝수 판별\n"
      ]
    },
    {
      "cell_type": "code",
      "execution_count": null,
      "metadata": {},
      "outputs": [],
      "source": [
        "# 홀수/짝수 판별 프로그램\n",
        "number = int(input(\"숫자를 입력하세요: \"))\n",
        "\n",
        "if number % 2 == 0:\n",
        "    print(\"짝수입니다.\")\n",
        "else:\n",
        "    print(\"홀수입니다.\")\n",
        "\n",
        "print(f\"입력한 숫자: {number}\")\n",
        "print(f\"{number} ÷ 2의 나머지: {number % 2}\")\n"
      ]
    },
    {
      "cell_type": "markdown",
      "metadata": {
        "vscode": {
          "languageId": "raw"
        }
      },
      "source": [
        "## 🎯 기본 조건문 예제 3: 나이에 따른 영화 관람 판별\n"
      ]
    },
    {
      "cell_type": "code",
      "execution_count": null,
      "metadata": {},
      "outputs": [],
      "source": [
        "# 나이에 따른 영화 관람 판별 프로그램\n",
        "age = int(input(\"나이를 입력하세요: \"))\n",
        "\n",
        "if age >= 19:\n",
        "    print(\"통과\")\n",
        "    print(\"🎬 영화 관람이 가능합니다!\")\n",
        "else:\n",
        "    print(\"집으로.\")\n",
        "    print(\"🚫 성인 영화는 19세 이상부터 관람 가능합니다.\")\n",
        "\n",
        "print(f\"입력한 나이: {age}세\")\n"
      ]
    },
    {
      "cell_type": "markdown",
      "metadata": {
        "vscode": {
          "languageId": "raw"
        }
      },
      "source": [
        "## 🔀 다중 조건문 (elif) 예제 1: 양수/음수/0 판별\n"
      ]
    },
    {
      "cell_type": "code",
      "execution_count": null,
      "metadata": {},
      "outputs": [],
      "source": [
        "# 양수/음수/0 판별 프로그램\n",
        "number = int(input(\"숫자를 입력하세요: \"))\n",
        "\n",
        "if number > 0:\n",
        "    print(\"양수입니다\")\n",
        "    print(\"🔢 0보다 큰 수네요!\")\n",
        "elif number < 0:\n",
        "    print(\"음수입니다\")\n",
        "    print(\"🔢 0보다 작은 수네요!\")\n",
        "else:\n",
        "    print(\"0입니다\")\n",
        "    print(\"🔢 딱 0이네요!\")\n",
        "\n",
        "print(f\"입력한 숫자: {number}\")\n"
      ]
    },
    {
      "cell_type": "markdown",
      "metadata": {
        "vscode": {
          "languageId": "raw"
        }
      },
      "source": [
        "## 🔀 다중 조건문 (elif) 예제 2: 점수에 따른 등급 출력\n"
      ]
    },
    {
      "cell_type": "code",
      "execution_count": null,
      "metadata": {},
      "outputs": [],
      "source": [
        "# 점수에 따른 등급 출력 프로그램\n",
        "score = int(input(\"점수를 입력하세요: \"))\n",
        "\n",
        "if score >= 90:\n",
        "    print(\"A입니다\")\n",
        "    print(\"🎉 우수한 성적이네요!\")\n",
        "elif score >= 80:\n",
        "    print(\"B입니다\")\n",
        "    print(\"👍 좋은 성적이에요!\")\n",
        "else:\n",
        "    print(\"C입니다\")\n",
        "    print(\"💪 더 열심히 공부해보세요!\")\n",
        "\n",
        "print(f\"입력한 점수: {score}점\")\n",
        "\n",
        "# 등급 기준 안내\n",
        "print(\"\\n📊 등급 기준:\")\n",
        "print(\"90점 이상: A등급\")\n",
        "print(\"80점 이상: B등급\") \n",
        "print(\"80점 미만: C등급\")\n"
      ]
    },
    {
      "cell_type": "markdown",
      "metadata": {
        "vscode": {
          "languageId": "raw"
        }
      },
      "source": [
        "## 🔍 조건문 상세 설명\n",
        "\n",
        "### 🔑 핵심 개념 정리\n",
        "\n",
        "#### 1. 비교 연산자\n",
        "- `==` : 같다 (주의: = 하나는 대입, == 둘은 비교)\n",
        "- `!=` : 같지 않다\n",
        "- `>` : 크다\n",
        "- `<` : 작다  \n",
        "- `>=` : 크거나 같다\n",
        "- `<=` : 작거나 같다\n",
        "\n",
        "#### 2. 나머지 연산자 (%)\n",
        "- `숫자 % 2 == 0` : 짝수 판별 (2로 나눈 나머지가 0)\n",
        "- `숫자 % 2 == 1` : 홀수 판별 (2로 나눈 나머지가 1)\n",
        "\n",
        "#### 3. elif의 특징\n",
        "- **순서대로 검사**: 위에서부터 차례대로 조건을 확인합니다\n",
        "- **하나만 실행**: 조건이 맞으면 해당 블록만 실행하고 나머지는 건너뜁니다\n",
        "- **else는 선택사항**: 모든 조건이 거짓일 때만 실행됩니다\n",
        "\n",
        "#### 4. 들여쓰기 중요성\n",
        "- 파이썬은 들여쓰기로 코드 블록을 구분합니다\n",
        "- if문 안의 코드는 반드시 4칸(또는 Tab) 들여쓰기를 해야 합니다\n"
      ]
    },
    {
      "cell_type": "markdown",
      "metadata": {
        "vscode": {
          "languageId": "raw"
        }
      },
      "source": [
        "## 💪 연습 문제\n",
        "\n",
        "배운 조건문을 직접 활용해보세요! 🚀\n"
      ]
    },
    {
      "cell_type": "markdown",
      "metadata": {
        "vscode": {
          "languageId": "raw"
        }
      },
      "source": [
        "### 문제 1: 온도에 따른 옷차림 추천\n",
        "온도를 입력받아서 다음과 같이 옷차림을 추천하는 프로그램을 작성하세요.\n",
        "- 25도 이상: \"반팔을 입으세요\"\n",
        "- 25도 미만: \"긴팔을 입으세요\"\n"
      ]
    },
    {
      "cell_type": "code",
      "execution_count": null,
      "metadata": {},
      "outputs": [],
      "source": [
        "# 문제 1 답안 작성 공간\n",
        "# 힌트: temperature >= 25를 조건으로 사용하세요\n"
      ]
    },
    {
      "cell_type": "markdown",
      "metadata": {
        "vscode": {
          "languageId": "raw"
        }
      },
      "source": [
        "### 문제 2: 비밀번호 확인 프로그램\n",
        "올바른 비밀번호를 \"1234\"로 설정하고, 사용자가 입력한 비밀번호가 맞는지 확인하는 프로그램을 작성하세요.\n",
        "- 비밀번호가 맞으면: \"로그인 성공!\"\n",
        "- 비밀번호가 틀리면: \"비밀번호가 틀렸습니다.\"\n"
      ]
    },
    {
      "cell_type": "code",
      "execution_count": null,
      "metadata": {},
      "outputs": [],
      "source": [
        "# 문제 2 답안 작성 공간\n",
        "# 힌트: input()으로 비밀번호를 받고, == \"1234\"로 비교하세요\n"
      ]
    },
    {
      "cell_type": "markdown",
      "metadata": {
        "vscode": {
          "languageId": "raw"
        }
      },
      "source": [
        "### 문제 3: 교통요금 계산 프로그램\n",
        "나이를 입력받아서 다음과 같이 교통요금을 계산하는 프로그램을 작성하세요.\n",
        "- 7세 미만: \"무료입니다\"\n",
        "- 7세 이상 19세 미만: \"청소년 요금 800원입니다\"  \n",
        "- 19세 이상: \"성인 요금 1200원입니다\"\n"
      ]
    },
    {
      "cell_type": "code",
      "execution_count": null,
      "metadata": {},
      "outputs": [],
      "source": [
        "# 문제 3 답안 작성 공간\n",
        "# 힌트: if - elif - else를 사용하고, age < 7, age < 19 순서로 조건을 확인하세요\n"
      ]
    },
    {
      "cell_type": "markdown",
      "metadata": {
        "vscode": {
          "languageId": "raw"
        }
      },
      "source": [
        "### 문제 4: 계절 판별 프로그램\n",
        "월(month)을 입력받아서 계절을 판별하는 프로그램을 작성하세요.\n",
        "- 12, 1, 2월: \"겨울입니다\"\n",
        "- 3, 4, 5월: \"봄입니다\"  \n",
        "- 6, 7, 8월: \"여름입니다\"\n",
        "- 9, 10, 11월: \"가을입니다\"\n"
      ]
    },
    {
      "cell_type": "code",
      "execution_count": null,
      "metadata": {},
      "outputs": [],
      "source": [
        "# 문제 4 답안 작성 공간  \n",
        "# 힌트: month == 12 or month == 1 or month == 2 형태로 조건을 만들거나\n",
        "# month in [12, 1, 2] 형태로도 가능해요\n"
      ]
    },
    {
      "cell_type": "markdown",
      "metadata": {
        "vscode": {
          "languageId": "raw"
        }
      },
      "source": [
        "### 문제 5: 종합 성적 관리 시스템\n",
        "점수를 입력받아서 다음과 같은 상세한 등급 시스템을 만드세요.\n",
        "- 95점 이상: \"A+ 최우수\"\n",
        "- 90점 이상: \"A 우수\" \n",
        "- 85점 이상: \"B+ 양호\"\n",
        "- 80점 이상: \"B 보통\"\n",
        "- 70점 이상: \"C 미흡\"\n",
        "- 70점 미만: \"F 재시험\"\n",
        "\n",
        "각 등급에 맞는 코멘트도 함께 출력해주세요!\n"
      ]
    },
    {
      "cell_type": "code",
      "execution_count": null,
      "metadata": {},
      "outputs": [],
      "source": [
        "# 문제 5 답안 작성 공간\n",
        "# 힌트: 가장 높은 점수부터 차례대로 if - elif를 사용하세요\n",
        "# score >= 95, score >= 90, score >= 85... 순서로!\n"
      ]
    }
  ],
  "metadata": {
    "language_info": {
      "name": "python"
    }
  },
  "nbformat": 4,
  "nbformat_minor": 2
}
