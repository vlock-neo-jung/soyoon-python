{
  "cells": [
    {
      "cell_type": "markdown",
      "metadata": {
        "vscode": {
          "languageId": "raw"
        }
      },
      "source": [
        "# 🔄 반복문 완전정복 (for & while)\n",
        "\n",
        "안녕하세요! 오늘은 같은 작업을 여러 번 반복할 수 있게 해주는 **반복문**을 배워보겠습니다.\n",
        "\n",
        "- 🔁 반복문: 똑같은 코드를 여러 번 실행하는 명령어\n",
        "- ⏰ for문: 횟수를 정해서 반복할 때 사용\n",
        "- 🔄 while문: 조건이 참인 동안 계속 반복할 때 사용\n",
        "- 💡 실생활 예시: \"안녕하세요를 10번 말하기\", \"1부터 100까지 더하기\"\n",
        "\n",
        "반복문을 마스터하면 컴퓨터의 진짜 장점을 활용할 수 있어요! 🚀✨\n"
      ]
    },
    {
      "cell_type": "markdown",
      "metadata": {
        "vscode": {
          "languageId": "raw"
        }
      },
      "source": [
        "## 📖 학습 내용 개요\n",
        "\n",
        "오늘 배울 반복문의 모든 내용입니다:\n",
        "\n",
        "### 1️⃣ for문 기본 구조\n",
        "- `range(숫자)`: 0부터 숫자-1까지 반복\n",
        "- `range(시작, 끝)`: 시작부터 끝-1까지 반복\n",
        "- `range(시작, 끝, 증감)`: 증감값을 조절한 반복\n",
        "\n",
        "### 2️⃣ while문 기본 구조\n",
        "- 조건이 참인 동안 계속 반복\n",
        "- 조건이 거짓이 되면 반복 종료\n",
        "\n",
        "### 3️⃣ 실용적인 반복문 활용\n",
        "- 환영 메시지 반복하기\n",
        "- 별 모양 패턴 만들기\n",
        "- 구구단 출력하기\n",
        "- 숫자 합계 계산하기\n",
        "\n",
        "### 4️⃣ 중첩 반복문 (다중 for문)\n",
        "- 반복문 안에 또 다른 반복문\n",
        "- 복잡한 패턴과 구조 만들기\n",
        "\n",
        "반복문을 마스터하면 복잡한 계산도 쉽게 할 수 있어요!\n"
      ]
    },
    {
      "cell_type": "markdown",
      "metadata": {
        "vscode": {
          "languageId": "raw"
        }
      },
      "source": [
        "## 🏗️ for문 기본 구조\n"
      ]
    },
    {
      "cell_type": "code",
      "execution_count": null,
      "metadata": {},
      "outputs": [],
      "source": [
        "# 📋 for문의 기본 구조를 알아봅시다\n",
        "\n",
        "print(\"=== 기본 for문 구조 ===\")\n",
        "print(\"\"\"\n",
        "기본 구조:\n",
        "for 변수 in range(숫자):\n",
        "    문장1\n",
        "    문장2\n",
        "\n",
        "→ 변수는 0부터 숫자-1까지 1씩 증가하면서 문장1, 문장2를 실행\n",
        "\"\"\")\n",
        "\n",
        "print(\"=== 시작값과 끝값 지정 ===\")\n",
        "print(\"\"\"\n",
        "시작값과 끝값:\n",
        "for 변수 in range(숫자1, 숫자2):\n",
        "    문장1\n",
        "    문장2\n",
        "\n",
        "→ 변수는 숫자1부터 숫자2-1까지 1씩 증가\n",
        "\"\"\")\n",
        "\n",
        "print(\"=== 시작, 끝, 증감값 지정 ===\")\n",
        "print(\"\"\"\n",
        "시작, 끝, 증감:\n",
        "for 변수 in range(시작, 끝, 증감):\n",
        "    문장1\n",
        "    문장2\n",
        "\n",
        "→ 변수는 시작부터 끝-1까지 증감만큼 증가\n",
        "\"\"\")\n",
        "\n",
        "print(\"💡 중요한 포인트:\")\n",
        "print(\"1. range(5)는 0, 1, 2, 3, 4를 의미합니다\")\n",
        "print(\"2. 끝 숫자는 포함되지 않습니다\")\n",
        "print(\"3. 증감값이 음수면 감소하면서 반복합니다\")\n"
      ]
    },
    {
      "cell_type": "markdown",
      "metadata": {
        "vscode": {
          "languageId": "raw"
        }
      },
      "source": [
        "## 🏗️ while문 기본 구조\n"
      ]
    },
    {
      "cell_type": "code",
      "execution_count": null,
      "metadata": {},
      "outputs": [],
      "source": [
        "# 📋 while문의 기본 구조를 알아봅시다\n",
        "\n",
        "print(\"=== while문 기본 구조 ===\")\n",
        "print(\"\"\"\n",
        "기본 구조:\n",
        "while 조건식:\n",
        "    문장1\n",
        "\n",
        "→ 조건식이 참인 동안 문장1을 반복 실행, 거짓이면 탈출\n",
        "\"\"\")\n",
        "\n",
        "print(\"=== for문 vs while문 ===\")\n",
        "print(\"\"\"\n",
        "for문: 반복 횟수를 알 때 사용\n",
        "- range(10) → 10번 반복\n",
        "\n",
        "while문: 조건에 따라 반복할 때 사용  \n",
        "- while x < 10 → x가 10보다 작은 동안 반복\n",
        "\"\"\")\n",
        "\n",
        "print(\"💡 중요한 주의사항:\")\n",
        "print(\"1. while문에서는 조건이 언젠가 거짓이 되도록 해야 합니다\")\n",
        "print(\"2. 그렇지 않으면 무한 반복에 빠질 수 있어요!\")\n",
        "print(\"3. 보통 반복 변수를 조건 안에서 변경해줍니다\")\n"
      ]
    },
    {
      "cell_type": "markdown",
      "metadata": {
        "vscode": {
          "languageId": "raw"
        }
      },
      "source": [
        "## 🎯 for문 예제 1: 환영 메시지 반복\n"
      ]
    },
    {
      "cell_type": "code",
      "execution_count": 2,
      "metadata": {},
      "outputs": [
        {
          "name": "stdout",
          "output_type": "stream",
          "text": [
            "=== for문으로 환영 메시지 5번 출력 ===\n",
            "0 방문을 환영합니다!\n",
            "1 방문을 환영합니다!\n",
            "2 방문을 환영합니다!\n",
            "3 방문을 환영합니다!\n",
            "4 방문을 환영합니다!\n",
            "\n",
            "위의 메시지가 총 5번 출력되었습니다!\n"
          ]
        }
      ],
      "source": [
        "# for문 예제: 환영 메시지 반복하기\n",
        "print(\"=== for문으로 환영 메시지 5번 출력 ===\")\n",
        "\n",
        "for i in range(5):\n",
        "    print(i, \"방문을 환영합니다!\")\n",
        "\n",
        "print(f\"\\n위의 메시지가 총 5번 출력되었습니다!\")\n"
      ]
    },
    {
      "cell_type": "markdown",
      "metadata": {
        "vscode": {
          "languageId": "raw"
        }
      },
      "source": [
        "## ⭐ 별 패턴 출력 (for문 vs while문)\n"
      ]
    },
    {
      "cell_type": "code",
      "execution_count": null,
      "metadata": {},
      "outputs": [],
      "source": [
        "# 별 패턴 출력: for문과 while문 비교\n",
        "print(\"=== for문으로 별 패턴 출력 ===\")\n",
        "\n",
        "for i in range(1, 9):\n",
        "    print(\"★\" * i)\n",
        "\n",
        "print(\"\\n\" + \"=\"*30)\n",
        "print(\"=== while문으로 같은 별 패턴 출력 ===\")\n",
        "\n",
        "i = 1\n",
        "while i <= 8:\n",
        "    print('★' * i)\n",
        "    i += 1\n",
        "\n",
        "print(\"\\n💡 설명:\")\n",
        "print(\"- for문: range(1, 9)로 1부터 8까지 자동으로 증가\")\n",
        "print(\"- while문: i = 1로 시작해서 i += 1로 직접 증가시킴\")\n",
        "print(\"- 둘 다 같은 결과를 만들어요!\")\n"
      ]
    },
    {
      "cell_type": "markdown",
      "metadata": {
        "vscode": {
          "languageId": "raw"
        }
      },
      "source": [
        "## 📚 구구단 출력하기\n"
      ]
    },
    {
      "cell_type": "code",
      "execution_count": null,
      "metadata": {},
      "outputs": [],
      "source": [
        "# 구구단 출력 프로그램\n",
        "dan = int(input(\"원하는 단을 입력하세요: \"))\n",
        "\n",
        "print(f\"\\n=== {dan}단 출력 ===\")\n",
        "for i in range(1, 10):\n",
        "    print(dan, \"*\", i, \"=\", dan * i)\n",
        "\n",
        "print(f\"\\n{dan}단이 완성되었습니다! 🎉\")\n"
      ]
    },
    {
      "cell_type": "markdown",
      "metadata": {
        "vscode": {
          "languageId": "raw"
        }
      },
      "source": [
        "## 🧮 1부터 100까지 합계 계산 (for문 vs while문)\n"
      ]
    },
    {
      "cell_type": "code",
      "execution_count": null,
      "metadata": {},
      "outputs": [],
      "source": [
        "# 1부터 100까지 합계 계산: for문과 while문 비교\n",
        "\n",
        "print(\"=== for문으로 1부터 100까지 합계 ===\")\n",
        "sum = 0\n",
        "for i in range(1, 101):\n",
        "    sum += i\n",
        "print(\"1부터 100까지 합은\", sum, \"입니다.\")\n",
        "\n",
        "print(\"\\n\" + \"=\"*40)\n",
        "print(\"=== while문으로 1부터 100까지 합계 ===\")\n",
        "\n",
        "i = 1\n",
        "sum = 0\n",
        "while i <= 100:\n",
        "    sum += i\n",
        "    i += 1\n",
        "print(\"1부터 100까지의 합은\", sum, \"입니다.\")\n",
        "\n",
        "print(\"\\n💡 비교:\")\n",
        "print(\"- for문: range(1, 101)로 자동으로 1부터 100까지\")\n",
        "print(\"- while문: i = 1로 시작해서 i <= 100 조건으로 반복\")\n",
        "print(\"- 둘 다 같은 답이 나와요!\")\n"
      ]
    },
    {
      "cell_type": "markdown",
      "metadata": {
        "vscode": {
          "languageId": "raw"
        }
      },
      "source": [
        "## 🔢 1부터 10까지 짝수 출력하기\n"
      ]
    },
    {
      "cell_type": "code",
      "execution_count": null,
      "metadata": {},
      "outputs": [],
      "source": [
        "# 1부터 10까지 짝수 출력: for문과 while문\n",
        "\n",
        "print(\"=== for문으로 짝수 출력 ===\")\n",
        "for i in range(2, 11, 2):\n",
        "    print(i, end=\" \")\n",
        "print()\n",
        "\n",
        "print(\"\\n=== while문으로 짝수 출력 ===\")\n",
        "a = 0\n",
        "while a < 10:\n",
        "    a += 2\n",
        "    print(a, end=\" \")\n",
        "print()\n",
        "\n",
        "print(\"\\n💡 설명:\")\n",
        "print(\"- for문: range(2, 11, 2)로 2부터 10까지 2씩 증가\")\n",
        "print(\"- while문: a = 0에서 시작해서 a += 2로 2씩 증가\")\n",
        "print(\"- 둘 다 2, 4, 6, 8, 10을 출력해요!\")\n"
      ]
    },
    {
      "cell_type": "markdown",
      "metadata": {
        "vscode": {
          "languageId": "raw"
        }
      },
      "source": [
        "## 🔢 50까지 5의 배수 출력하기\n"
      ]
    },
    {
      "cell_type": "code",
      "execution_count": null,
      "metadata": {},
      "outputs": [],
      "source": [
        "# 50까지 5의 배수 출력: for문과 while문\n",
        "\n",
        "print(\"=== for문으로 5의 배수 출력 ===\")\n",
        "for i in range(5, 51, 5):\n",
        "    print(i, end=\" \")\n",
        "print()\n",
        "\n",
        "print(\"\\n=== while문으로 5의 배수 출력 ===\")\n",
        "i = 1\n",
        "while i <= 50:\n",
        "    if i % 5 == 0:\n",
        "        print(i, end=\" \")\n",
        "    i += 1\n",
        "print()\n",
        "\n",
        "print(\"\\n💡 두 가지 방법:\")\n",
        "print(\"- for문: range(5, 51, 5)로 5부터 50까지 5씩 증가\")\n",
        "print(\"- while문: 1부터 50까지 중에서 5로 나누어떨어지는 수만 출력\")\n",
        "print(\"- 결과는 같지만 접근 방법이 달라요!\")\n"
      ]
    },
    {
      "cell_type": "markdown",
      "metadata": {
        "vscode": {
          "languageId": "raw"
        }
      },
      "source": [
        "## 🔄 중첩 반복문 (다중 for문)\n"
      ]
    },
    {
      "cell_type": "code",
      "execution_count": null,
      "metadata": {},
      "outputs": [],
      "source": [
        "# 중첩 반복문 설명\n",
        "print(\"=== 중첩 반복문이란? ===\")\n",
        "print(\"반복문 안에 또 다른 반복문이 들어있는 구조입니다\")\n",
        "print(\"\"\"\n",
        "for x in range(바깥반복):\n",
        "    for y in range(안쪽반복):\n",
        "        실행할 코드\n",
        "        \n",
        "→ 바깥반복 1번마다 안쪽반복이 전체 실행됩니다\n",
        "\"\"\")\n",
        "\n",
        "print(\"💡 실행 순서:\")\n",
        "print(\"1. x=0일 때, y가 0부터 끝까지 반복\")  \n",
        "print(\"2. x=1일 때, y가 다시 0부터 끝까지 반복\")\n",
        "print(\"3. x가 끝날 때까지 이 과정을 반복\")\n",
        "print(\"4. 총 실행 횟수 = 바깥반복 × 안쪽반복\")\n"
      ]
    },
    {
      "cell_type": "markdown",
      "metadata": {
        "vscode": {
          "languageId": "raw"
        }
      },
      "source": [
        "## 📚 구구단 전체 출력 (2단~9단)\n"
      ]
    },
    {
      "cell_type": "code",
      "execution_count": null,
      "metadata": {},
      "outputs": [],
      "source": [
        "# 구구단 전체 출력 (2단~9단)\n",
        "print(\"=== 구구단 2단부터 9단까지 출력 ===\")\n",
        "\n",
        "for x in range(2, 10):  # 2단부터 9단까지\n",
        "    for y in range(1, 10):  # 각 단의 1부터 9까지\n",
        "        print(x, \"*\", y, \"=\", x * y, end=\"  \")\n",
        "    print()  # 한 단이 끝나면 줄바꿈\n",
        "\n",
        "print(\"\\n구구단 전체가 완성되었습니다! 🎉\")\n"
      ]
    },
    {
      "cell_type": "markdown",
      "metadata": {
        "vscode": {
          "languageId": "raw"
        }
      },
      "source": [
        "## ⭐ 사선으로 별 출력하기\n"
      ]
    },
    {
      "cell_type": "code",
      "execution_count": null,
      "metadata": {},
      "outputs": [],
      "source": [
        "# 사선으로 별 출력하기\n",
        "print(\"=== 사선 별 패턴 ===\")\n",
        "\n",
        "for x in range(1, 8):\n",
        "    for y in range(1, 8):\n",
        "        if x == y:  # x와 y가 같을 때만 별 출력\n",
        "            print(\"*\", end=\" \")\n",
        "        else:\n",
        "            print(\" \", end=\" \")  # 그 외에는 공백\n",
        "    print()  # 줄바꿈\n",
        "\n",
        "print(\"\\n💡 원리:\")\n",
        "print(\"- x=1, y=1일 때: 별 출력\")\n",
        "print(\"- x=2, y=2일 때: 별 출력\") \n",
        "print(\"- x=3, y=3일 때: 별 출력\")\n",
        "print(\"- 즉, x와 y가 같은 위치에서만 별이 나타나서 대각선 모양!\")\n"
      ]
    },
    {
      "cell_type": "markdown",
      "metadata": {
        "vscode": {
          "languageId": "raw"
        }
      },
      "source": [
        "## ⭐ 역삼각형 별 출력하기\n"
      ]
    },
    {
      "cell_type": "code",
      "execution_count": null,
      "metadata": {},
      "outputs": [],
      "source": [
        "# 역삼각형 별 출력하기\n",
        "print(\"=== 역삼각형 별 패턴 ===\")\n",
        "\n",
        "for x in range(1, 8):\n",
        "    for y in range(1, 8):\n",
        "        if x <= y:  # x가 y보다 작거나 같을 때 별 출력\n",
        "            print(\"*\", end=\" \")\n",
        "        else:\n",
        "            print(\" \", end=\" \")  # 그 외에는 공백\n",
        "    print()  # 줄바꿈\n",
        "\n",
        "print(\"\\n💡 원리:\")\n",
        "print(\"- 1번째 줄(x=1): y=1~7까지 별 출력 (7개)\")\n",
        "print(\"- 2번째 줄(x=2): y=2~7까지 별 출력 (6개)\")\n",
        "print(\"- 3번째 줄(x=3): y=3~7까지 별 출력 (5개)\")\n",
        "print(\"- 줄이 내려갈수록 별의 개수가 하나씩 줄어서 역삼각형 모양!\")\n"
      ]
    },
    {
      "cell_type": "markdown",
      "metadata": {
        "vscode": {
          "languageId": "raw"
        }
      },
      "source": [
        "## 💪 연습 문제\n",
        "\n",
        "배운 반복문을 직접 활용해보세요! 🚀\n"
      ]
    },
    {
      "cell_type": "markdown",
      "metadata": {
        "vscode": {
          "languageId": "raw"
        }
      },
      "source": [
        "### 문제 1: 자신의 이름 반복 출력\n",
        "자신의 이름을 7번 반복해서 출력하는 프로그램을 for문으로 작성하세요.\n"
      ]
    },
    {
      "cell_type": "code",
      "execution_count": null,
      "metadata": {},
      "outputs": [],
      "source": [
        "# 문제 1 답안 작성 공간\n",
        "# 힌트: for i in range(7): 사용하세요\n"
      ]
    },
    {
      "cell_type": "markdown",
      "metadata": {
        "vscode": {
          "languageId": "raw"
        }
      },
      "source": [
        "### 문제 2: 10부터 1까지 카운트다운\n",
        "10부터 1까지 역순으로 출력하는 프로그램을 작성하세요.\n",
        "출력 예시: 10 9 8 7 6 5 4 3 2 1\n"
      ]
    },
    {
      "cell_type": "code",
      "execution_count": null,
      "metadata": {},
      "outputs": [],
      "source": [
        "# 문제 2 답안 작성 공간\n",
        "# 힌트: range(10, 0, -1) 사용하면 10부터 1까지 역순으로!\n"
      ]
    },
    {
      "cell_type": "markdown",
      "metadata": {
        "vscode": {
          "languageId": "raw"
        }
      },
      "source": [
        "### 문제 3: 1부터 N까지 합계 계산기\n",
        "사용자로부터 숫자 N을 입력받아서 1부터 N까지의 합을 계산하는 프로그램을 while문으로 작성하세요.\n",
        "예시: N=5 입력 시 \"1부터 5까지의 합은 15입니다\"라고 출력\n"
      ]
    },
    {
      "cell_type": "code",
      "execution_count": null,
      "metadata": {},
      "outputs": [],
      "source": [
        "# 문제 3 답안 작성 공간\n",
        "# 힌트: \n",
        "# 1. n = int(input(\"숫자를 입력하세요: \"))\n",
        "# 2. i = 1, sum = 0으로 시작\n",
        "# 3. while i <= n: 조건 사용\n"
      ]
    },
    {
      "cell_type": "markdown",
      "metadata": {
        "vscode": {
          "languageId": "raw"
        }
      },
      "source": [
        "### 문제 4: 정삼각형 별 패턴\n",
        "다음과 같은 정삼각형 별 패턴을 출력하는 프로그램을 작성하세요.\n",
        "```\n",
        "*\n",
        "**\n",
        "***\n",
        "****\n",
        "*****\n",
        "```\n"
      ]
    },
    {
      "cell_type": "code",
      "execution_count": null,
      "metadata": {},
      "outputs": [],
      "source": [
        "# 문제 4 답안 작성 공간\n",
        "# 힌트: for i in range(1, 6): 사용하고, print(\"*\" * i) 활용\n"
      ]
    },
    {
      "cell_type": "markdown",
      "metadata": {
        "vscode": {
          "languageId": "raw"
        }
      },
      "source": [
        "### 문제 5: 종합 활용 - 구구단 퀴즈 프로그램\n",
        "사용자에게 구구단 문제를 5개 출제하고 정답을 확인하는 프로그램을 만드세요.\n",
        "\n",
        "**요구사항:**\n",
        "1. 2단부터 9단까지 중에서 임의로 문제 출제\n",
        "2. 예시: \"3 × 7 = ?\" 라고 출력\n",
        "3. 사용자의 답을 입력받기\n",
        "4. 정답이면 \"정답!\", 틀리면 \"틀렸습니다. 정답은 21입니다\"\n",
        "5. 5문제가 끝나면 총 맞춘 개수 출력\n",
        "\n",
        "**출력 예시:**\n",
        "```\n",
        "=== 구구단 퀴즈 (5문제) ===\n",
        "문제 1: 3 × 7 = ? 21\n",
        "정답!\n",
        "\n",
        "문제 2: 5 × 6 = ? 25  \n",
        "틀렸습니다. 정답은 30입니다.\n",
        "\n",
        "...\n",
        "\n",
        "퀴즈 종료! 5문제 중 3문제를 맞혔습니다.\n",
        "```\n"
      ]
    },
    {
      "cell_type": "code",
      "execution_count": null,
      "metadata": {},
      "outputs": [],
      "source": [
        "# 문제 5 답안 작성 공간\n",
        "# 힌트:\n",
        "# import random 사용해서 random.randint(2, 9)로 임의의 단 선택\n",
        "# for문으로 5번 반복\n",
        "# correct_count 변수로 맞춘 개수 세기\n",
        "# if문으로 정답 여부 확인\n"
      ]
    }
  ],
  "metadata": {
    "kernelspec": {
      "display_name": "jupyter_env",
      "language": "python",
      "name": "python3"
    },
    "language_info": {
      "codemirror_mode": {
        "name": "ipython",
        "version": 3
      },
      "file_extension": ".py",
      "mimetype": "text/x-python",
      "name": "python",
      "nbconvert_exporter": "python",
      "pygments_lexer": "ipython3",
      "version": "3.13.5"
    }
  },
  "nbformat": 4,
  "nbformat_minor": 2
}
