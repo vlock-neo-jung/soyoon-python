{
  "cells": [
    {
      "cell_type": "markdown",
      "metadata": {
        "vscode": {
          "languageId": "raw"
        }
      },
      "source": [
        "# 📚 딕셔너리(Dictionary) 기초\n",
        "\n",
        "## 🎯 학습 목표\n",
        "- 딕셔너리가 무엇인지 이해하기\n",
        "- 딕셔너리 만들기와 사용법 익히기\n",
        "- 실생활 예제로 딕셔너리 활용해보기\n",
        "\n",
        "---\n",
        "\n",
        "## 🤔 딕셔너리란?\n",
        "\n",
        "**딕셔너리(Dictionary)**는 마치 실제 사전처럼 **\"단어\"와 \"뜻\"**을 쌍으로 저장하는 자료형입니다!\n",
        "\n",
        "### 📖 실제 사전의 예\n",
        "- **Apple** → 사과\n",
        "- **Dog** → 개\n",
        "- **Car** → 자동차\n",
        "\n",
        "### 💻 파이썬 딕셔너리의 예\n",
        "- **\"이름\"** → \"김철수\"\n",
        "- **\"나이\"** → 15\n",
        "- **\"취미\"** → \"축구\"\n",
        "\n",
        "### 🔑 핵심 용어\n",
        "- **Key(키)**: 사전의 \"단어\" 부분 (예: \"이름\", \"나이\")\n",
        "- **Value(값)**: 사전의 \"뜻\" 부분 (예: \"김철수\", 15)\n",
        "- **Key : Value** 쌍으로 데이터를 저장합니다!\n"
      ]
    },
    {
      "cell_type": "markdown",
      "metadata": {
        "vscode": {
          "languageId": "raw"
        }
      },
      "source": [
        "## 🛠️ 딕셔너리 만들기\n",
        "\n",
        "### 기본 문법\n",
        "```python\n",
        "딕셔너리이름 = {\"키1\": 값1, \"키2\": 값2, \"키3\": 값3}\n",
        "```\n",
        "\n",
        "### 📝 주의사항\n",
        "- **중괄호 `{}`** 를 사용합니다\n",
        "- **키와 값은 콜론 `:`** 으로 연결합니다  \n",
        "- **각 쌍은 쉼표 `,`** 로 구분합니다\n",
        "- **키는 따옴표**로 감싸주세요 (문자열일 때)\n"
      ]
    },
    {
      "cell_type": "code",
      "execution_count": null,
      "metadata": {},
      "outputs": [],
      "source": [
        "# 🌟 첫 번째 딕셔너리 만들어보기!\n",
        "\n",
        "print(\"👋 안녕하세요! 딕셔너리를 배워봅시다!\")\n",
        "print()\n",
        "\n",
        "# 학생 정보를 담은 딕셔너리 만들기\n",
        "student = {\"이름\": \"김철수\", \"나이\": 15, \"학년\": 1}\n",
        "\n",
        "print(\"📚 학생 정보 딕셔너리:\")\n",
        "print(student)\n",
        "print()\n",
        "\n",
        "print(\"🔍 딕셔너리 구조 살펴보기:\")\n",
        "print(\"• 키(Key): '이름', '나이', '학년'\")\n",
        "print(\"• 값(Value): '김철수', 15, 1\")\n",
        "print(\"• 키와 값이 콜론(:)으로 연결되어 있어요!\")\n",
        "print()\n",
        "\n",
        "# 딕셔너리의 타입 확인\n",
        "print(f\"📊 student의 타입: {type(student)}\")\n",
        "print(\"→ <class 'dict'>가 나오면 딕셔너리가 제대로 만들어진 거예요!\")\n"
      ]
    },
    {
      "cell_type": "markdown",
      "metadata": {
        "vscode": {
          "languageId": "raw"
        }
      },
      "source": [
        "## 🔍 딕셔너리에서 값 가져오기\n",
        "\n",
        "딕셔너리에 저장된 값을 가져오려면 **키**를 사용합니다!\n",
        "\n",
        "### 기본 문법\n",
        "```python\n",
        "딕셔너리이름[키]\n",
        "```\n",
        "\n",
        "### 📖 사전에서 단어 찾는 것과 같아요!\n",
        "- 사전에서 \"Apple\"을 찾으면 → \"사과\"가 나옴\n",
        "- 딕셔너리에서 \"이름\"을 찾으면 → \"김철수\"가 나옴\n"
      ]
    },
    {
      "cell_type": "code",
      "execution_count": null,
      "metadata": {},
      "outputs": [],
      "source": [
        "# 🔍 딕셔너리에서 값 꺼내기 연습\n",
        "\n",
        "# 이미 만든 student 딕셔너리 사용\n",
        "student = {\"이름\": \"김철수\", \"나이\": 15, \"학년\": 1}\n",
        "\n",
        "print(\"📚 student 딕셔너리:\")\n",
        "print(student)\n",
        "print()\n",
        "\n",
        "print(\"🔑 키를 사용해서 값 가져오기:\")\n",
        "\n",
        "# 각각의 키로 값 가져오기\n",
        "name = student[\"이름\"]\n",
        "age = student[\"나이\"]\n",
        "grade = student[\"학년\"]\n",
        "\n",
        "print(f\"이름: {name}\")\n",
        "print(f\"나이: {age}\")\n",
        "print(f\"학년: {grade}\")\n",
        "print()\n",
        "\n",
        "print(\"💡 이렇게 사용할 수도 있어요:\")\n",
        "print(f\"안녕하세요! 제 이름은 {student['이름']}이고, {student['나이']}살입니다.\")\n",
        "print(f\"저는 {student['학년']}학년이에요!\")\n",
        "print()\n",
        "\n",
        "print(\"🚨 주의: 키를 정확히 써야 해요!\")\n",
        "print(\"• student['이름'] ✅ 정확함\")\n",
        "print(\"• student['성명'] ❌ 오류 (존재하지 않는 키)\")\n",
        "print(\"• student[이름] ❌ 오류 (따옴표 없음)\")\n"
      ]
    },
    {
      "cell_type": "markdown",
      "metadata": {
        "vscode": {
          "languageId": "raw"
        }
      },
      "source": [
        "## 📋 예제: 과목별 점수 저장하기\n",
        "\n",
        "이미지에 있는 것처럼 **과목명**과 **점수**를 딕셔너리에 저장해봅시다!\n"
      ]
    },
    {
      "cell_type": "code",
      "execution_count": null,
      "metadata": {},
      "outputs": [],
      "source": [
        "# 📊 과목별 점수를 저장한 딕셔너리\n",
        "\n",
        "print(\"📝 시험 성적 관리 프로그램\")\n",
        "print(\"=\"*30)\n",
        "\n",
        "# 과목별 점수를 저장한 딕셔너리 만들기\n",
        "scores = {\"Math\": 85, \"English\": 92, \"Science\": 78, \"History\": 88}\n",
        "\n",
        "print(\"📚 과목별 점수:\")\n",
        "print(scores)\n",
        "print()\n",
        "\n",
        "# 특정 과목의 점수 출력\n",
        "print(\"🔍 특정 과목의 점수 조회하기:\")\n",
        "print(f\"수학(Math) 점수: {scores['Math']}점\")\n",
        "print(f\"영어(English) 점수: {scores['English']}점\")\n",
        "print(f\"과학(Science) 점수: {scores['Science']}점\")\n",
        "print(f\"역사(History) 점수: {scores['History']}점\")\n",
        "print()\n",
        "\n",
        "# 사용자가 조회하고 싶은 과목 지정\n",
        "print(\"💡 변수를 사용한 조회:\")\n",
        "subject = \"English\"  # 사용자가 조회하고 싶은 과목\n",
        "print(f\"조회할 과목: {subject}\")\n",
        "print(f\"{subject} 점수: {scores[subject]}점\")\n",
        "print()\n",
        "\n",
        "print(\"📊 성적 통계:\")\n",
        "print(f\"• 총 과목 수: {len(scores)}과목\")\n",
        "print(f\"• 모든 점수의 합: {sum(scores.values())}점\")\n",
        "print(f\"• 평균 점수: {sum(scores.values()) / len(scores):.1f}점\")\n"
      ]
    },
    {
      "cell_type": "markdown",
      "metadata": {
        "vscode": {
          "languageId": "raw"
        }
      },
      "source": [
        "## 💡 딕셔너리 vs 리스트 비교\n",
        "\n",
        "### 📝 같은 데이터를 다르게 저장하기\n",
        "\n",
        "**리스트 방식:**\n",
        "```python\n",
        "student_list = [\"김철수\", 15, 1]  # 순서로만 구분\n",
        "```\n",
        "\n",
        "**딕셔너리 방식:**\n",
        "```python\n",
        "student_dict = {\"이름\": \"김철수\", \"나이\": 15, \"학년\": 1}  # 이름으로 구분\n",
        "```\n",
        "\n",
        "### 🤔 어떤 게 더 좋을까요?\n",
        "\n",
        "| 구분 | 리스트 | 딕셔너리 |\n",
        "|------|--------|----------|\n",
        "| **장점** | 순서가 있음, 간단함 | 의미가 명확함, 찾기 쉬움 |\n",
        "| **단점** | 무엇이 무엇인지 헷갈림 | 문법이 조금 복잡함 |\n",
        "| **사용예** | 순서가 중요한 데이터 | 이름표가 필요한 데이터 |\n"
      ]
    },
    {
      "cell_type": "code",
      "execution_count": null,
      "metadata": {},
      "outputs": [],
      "source": [
        "# 🔍 리스트 vs 딕셔너리 비교 실습\n",
        "\n",
        "print(\"📊 같은 데이터를 다른 방식으로 저장하기\")\n",
        "print(\"=\"*40)\n",
        "\n",
        "# 리스트로 학생 정보 저장\n",
        "print(\"📋 리스트 방식:\")\n",
        "student_list = [\"김철수\", 15, 1]\n",
        "print(f\"student_list = {student_list}\")\n",
        "print(f\"이름 가져오기: student_list[0] = {student_list[0]}\")\n",
        "print(f\"나이 가져오기: student_list[1] = {student_list[1]}\")\n",
        "print(\"→ 0, 1, 2... 숫자로 순서를 기억해야 해요!\")\n",
        "print()\n",
        "\n",
        "# 딕셔너리로 학생 정보 저장\n",
        "print(\"📚 딕셔너리 방식:\")\n",
        "student_dict = {\"이름\": \"김철수\", \"나이\": 15, \"학년\": 1}\n",
        "print(f\"student_dict = {student_dict}\")\n",
        "print(f\"이름 가져오기: student_dict['이름'] = {student_dict['이름']}\")\n",
        "print(f\"나이 가져오기: student_dict['나이'] = {student_dict['나이']}\")\n",
        "print(\"→ '이름', '나이'... 의미있는 단어로 찾을 수 있어요!\")\n",
        "print()\n",
        "\n",
        "print(\"🤔 어떤 방식이 더 이해하기 쉬운가요?\")\n",
        "print(\"🎯 정답: 딕셔너리! 각 값이 무엇을 의미하는지 명확해요!\")\n"
      ]
    },
    {
      "cell_type": "markdown",
      "metadata": {
        "vscode": {
          "languageId": "raw"
        }
      },
      "source": [
        "## 🏋️ 연습 문제: 나만의 과목 성적표 만들기\n",
        "\n",
        "이제 직접 딕셔너리를 만들어봅시다! 🎯\n"
      ]
    },
    {
      "cell_type": "code",
      "execution_count": null,
      "metadata": {},
      "outputs": [],
      "source": [
        "# 🎯 연습 문제: 나만의 성적표 만들기\n",
        "\n",
        "print(\"🏋️ 연습 문제: 나만의 과목 성적표 만들기\")\n",
        "print(\"=\"*45)\n",
        "\n",
        "# 문제: 아래 정보로 딕셔너리를 만들어보세요!\n",
        "# 국어: 90점, 영어: 85점, 수학: 95점, 과학: 88점\n",
        "\n",
        "print(\"📝 문제:\")\n",
        "print(\"다음 성적으로 딕셔너리를 만들어보세요!\")\n",
        "print(\"• 국어: 90점\")\n",
        "print(\"• 영어: 85점\")\n",
        "print(\"• 수학: 95점\")\n",
        "print(\"• 과학: 88점\")\n",
        "print()\n",
        "\n",
        "print(\"💡 힌트:\")\n",
        "print('my_scores = {\"국어\": 90, \"영어\": ?, \"수학\": ?, \"과학\": ?}')\n",
        "print()\n",
        "\n",
        "# 여기에 딕셔너리를 만들어보세요!\n",
        "# my_scores = {...}\n",
        "\n",
        "print(\"정답:\")\n",
        "my_scores = {\"국어\": 90, \"영어\": 85, \"수학\": 95, \"과학\": 88}\n",
        "print(f\"my_scores = {my_scores}\")\n",
        "print()\n",
        "\n",
        "print(\"🔍 만든 딕셔너리 확인하기:\")\n",
        "print(f\"국어 점수: {my_scores['국어']}점\")\n",
        "print(f\"영어 점수: {my_scores['영어']}점\")\n",
        "print(f\"수학 점수: {my_scores['수학']}점\")\n",
        "print(f\"과학 점수: {my_scores['과학']}점\")\n",
        "print()\n",
        "\n",
        "print(\"📊 성적 분석:\")\n",
        "print(f\"• 가장 높은 점수: {max(my_scores.values())}점\")\n",
        "print(f\"• 가장 낮은 점수: {min(my_scores.values())}점\")\n",
        "print(f\"• 평균 점수: {sum(my_scores.values()) / len(my_scores):.1f}점\")\n",
        "print()\n",
        "\n",
        "print(\"🎉 축하합니다! 딕셔너리를 성공적으로 만들었어요!\")\n"
      ]
    }
  ],
  "metadata": {
    "kernelspec": {
      "display_name": "jupyter_env",
      "language": "python",
      "name": "python3"
    },
    "language_info": {
      "name": "python",
      "version": "3.13.5"
    }
  },
  "nbformat": 4,
  "nbformat_minor": 2
}
