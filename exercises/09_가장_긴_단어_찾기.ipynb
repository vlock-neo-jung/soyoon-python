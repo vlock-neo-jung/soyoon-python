{
  "cells": [
    {
      "cell_type": "markdown",
      "metadata": {
        "vscode": {
          "languageId": "raw"
        }
      },
      "source": [
        "# 📝 함수로 가장 긴 단어 찾기\n",
        "\n",
        "## 🎯 프로그램 설명\n",
        "문장을 입력하면 그 중에서 가장 긴 단어를 찾아주는 프로그램입니다!\n",
        "함수를 사용해서 깔끔하게 만들어보겠습니다.\n"
      ]
    },
    {
      "cell_type": "code",
      "execution_count": null,
      "metadata": {},
      "outputs": [],
      "source": [
        "def find_longest_word(sentence):\n",
        "    # 문장을 단어로 나눔\n",
        "    words = sentence.split()\n",
        "    # 가장 긴 단어 찾기\n",
        "    longest_word = max(words, key=len)\n",
        "    return longest_word\n",
        "\n",
        "# 예제 실행\n",
        "sentence = input(\"문장을 입력하세요: \")\n",
        "longest = find_longest_word(sentence)\n",
        "print(\"가장 긴 단어는\", longest, \"입니다!\")\n"
      ]
    },
    {
      "cell_type": "markdown",
      "metadata": {
        "vscode": {
          "languageId": "raw"
        }
      },
      "source": [
        "## 🏋️ 연습 문제: 가장 짧은 단어 찾기\n",
        "\n",
        "비슷한 수준의 연습 문제를 해보세요!\n"
      ]
    },
    {
      "cell_type": "code",
      "execution_count": null,
      "metadata": {},
      "outputs": [],
      "source": [
        "# 가장 짧은 단어 찾기 함수를 만들어보세요!\n",
        "\n",
        "def find_shortest_word(sentence):\n",
        "    words = sentence.split()\n",
        "    # 여기에 가장 짧은 단어를 찾는 코드를 작성하세요\n",
        "    # 힌트: max() 대신 min()을 사용하면 됩니다!\n",
        "    shortest_word = min(words, key=len)\n",
        "    return shortest_word\n",
        "\n",
        "# 테스트해보기\n",
        "sentence = input(\"문장을 입력하세요: \")\n",
        "shortest = find_shortest_word(sentence)\n",
        "print(\"가장 짧은 단어는\", shortest, \"입니다!\")\n"
      ]
    }
  ],
  "metadata": {
    "kernelspec": {
      "display_name": "jupyter_env",
      "language": "python",
      "name": "python3"
    },
    "language_info": {
      "name": "python",
      "version": "3.13.5"
    }
  },
  "nbformat": 4,
  "nbformat_minor": 2
}
