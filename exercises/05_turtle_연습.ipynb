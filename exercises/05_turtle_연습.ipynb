{
  "cells": [
    {
      "cell_type": "markdown",
      "metadata": {
        "vscode": {
          "languageId": "raw"
        }
      },
      "source": [
        "# 🐢 Turtle 그래픽 연습\n",
        "\n",
        "이 노트북에서는 turtle 모듈을 사용한 다양한 도형 그리기를 연습해보겠습니다.\n",
        "\n",
        "## 📋 학습 목표\n",
        "- 기본 도형 그리기\n",
        "- 색상과 채우기 활용\n",
        "- 반복문과 조합한 패턴 만들기\n"
      ]
    },
    {
      "cell_type": "markdown",
      "metadata": {
        "vscode": {
          "languageId": "raw"
        }
      },
      "source": [
        "## 📝 예제: 색칠된 정사각형 그리기\n",
        "\n",
        "**설명**: turtle을 사용해 색상이 채워진 정사각형을 그립니다.\n",
        "- `begin_fill()`과 `end_fill()`로 색상 채우기\n",
        "- `color()`로 선 색상과 채우기 색상 설정\n"
      ]
    },
    {
      "cell_type": "code",
      "execution_count": null,
      "metadata": {},
      "outputs": [],
      "source": [
        "# 예제: 색칠된 정사각형 그리기\n",
        "from turtle import *\n",
        "\n",
        "color(\"blue\")    # 선 색상을 파란색으로 설정\n",
        "begin_fill()     # 채우기 시작\n",
        "\n",
        "# 정사각형 그리기 (4번 반복)\n",
        "for i in range(4):\n",
        "    forward(100)  # 앞으로 100만큼\n",
        "    left(90)      # 왼쪽으로 90도 회전\n",
        "\n",
        "end_fill()       # 채우기 끝\n",
        "done()           # 그리기 완료\n"
      ]
    },
    {
      "cell_type": "markdown",
      "metadata": {
        "vscode": {
          "languageId": "raw"
        }
      },
      "source": [
        "### 🎯 실습 문제 1-1\n",
        "**빨간색 삼각형 그리기**\n",
        "- 삼각형을 그리고 빨간색으로 채우기\n",
        "- 삼각형: 3번 반복, 120도씩 회전\n",
        "\n",
        "### 🎯 실습 문제 1-2\n",
        "**노란색 육각형 그리기**  \n",
        "- 육각형을 그리고 노란색으로 채우기\n",
        "- 육각형: 6번 반복, 60도씩 회전 (360÷6=60)\n",
        "\n",
        "### 🎯 실습 문제 1-3\n",
        "**여러 색깔 원 그리기**\n",
        "- circle() 함수를 사용해서 다양한 색깔의 원 3개 그리기\n"
      ]
    }
  ],
  "metadata": {
    "kernelspec": {
      "display_name": "jupyter_env",
      "language": "python",
      "name": "python3"
    },
    "language_info": {
      "name": "python",
      "version": "3.13.5"
    }
  },
  "nbformat": 4,
  "nbformat_minor": 2
}
