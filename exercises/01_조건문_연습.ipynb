{
  "cells": [
    {
      "cell_type": "markdown",
      "metadata": {
        "vscode": {
          "languageId": "raw"
        }
      },
      "source": [
        "# 🧪 조건문 연습 문제\n",
        "\n",
        "이 노트북에서는 조건문(if, elif, else)을 사용한 다양한 문제를 연습해보겠습니다.\n",
        "\n",
        "## 📋 학습 목표\n",
        "- 단순 조건문과 복합 조건문 활용\n",
        "- 논리 연산자 (and, or, not) 사용\n",
        "- 나머지 연산자(%)를 활용한 조건 판별\n"
      ]
    },
    {
      "cell_type": "markdown",
      "metadata": {
        "vscode": {
          "languageId": "raw"
        }
      },
      "source": [
        "## 📝 예제 1: 국어, 수학 점수 기준 합격/불합격 판정\n",
        "\n",
        "**설명**: 두 과목의 점수를 입력받아 합격 기준을 만족하는지 판별하는 프로그램입니다.\n",
        "- 국어 80점 이상 **그리고** 수학 70점 이상이면 합격\n",
        "- 논리 연산자 `and`를 사용합니다.\n"
      ]
    },
    {
      "cell_type": "code",
      "execution_count": null,
      "metadata": {},
      "outputs": [],
      "source": [
        "# 예제 1: 국어, 수학 점수 기준 합격/불합격\n",
        "print(\"10100 홍길동\")\n",
        "guk = int(input(\"국어: \"))\n",
        "su = int(input(\"수학: \"))\n",
        "if guk >= 80 and su >= 70:\n",
        "    print(\"합격입니다\")\n",
        "else:\n",
        "    print(\"불합격입니다\")\n"
      ]
    },
    {
      "cell_type": "markdown",
      "metadata": {
        "vscode": {
          "languageId": "raw"
        }
      },
      "source": [
        "### 🎯 실습 문제 1-1\n",
        "**영어, 과학 점수 기준 장학금 대상 판별**\n",
        "- 영어 85점 이상 **그리고** 과학 90점 이상이면 \"장학금 대상\"\n",
        "- 그렇지 않으면 \"일반 학생\"\n",
        "- 학번과 이름을 \"20100 김철수\"로 출력\n"
      ]
    },
    {
      "cell_type": "code",
      "execution_count": null,
      "metadata": {},
      "outputs": [],
      "source": [
        "# 실습 문제 1-1: 장학금 대상 판별\n",
        "# 여기에 코드를 작성하세요\n",
        "\n"
      ]
    },
    {
      "cell_type": "markdown",
      "metadata": {
        "vscode": {
          "languageId": "raw"
        }
      },
      "source": [
        "## 📝 예제 2: 나이에 따른 분류\n",
        "\n",
        "**설명**: 나이를 입력받아 연령대를 분류하는 프로그램입니다.\n",
        "- `elif`를 사용한 다중 조건문\n",
        "- 20세 이상: 성인, 13-19세: 청소년, 12세 이하: 어린이\n"
      ]
    },
    {
      "cell_type": "code",
      "execution_count": null,
      "metadata": {},
      "outputs": [],
      "source": [
        "# 예제 2: 나이에 따른 분류\n",
        "print(\"10000 김00\")\n",
        "age = int(input(\"나이: \"))\n",
        "if age >= 20:\n",
        "    print(\"성인입니다\")\n",
        "elif age >= 13:\n",
        "    print(\"청소년입니다\")\n",
        "else:\n",
        "    print(\"어린이입니다\")\n"
      ]
    },
    {
      "cell_type": "markdown",
      "metadata": {
        "vscode": {
          "languageId": "raw"
        }
      },
      "source": [
        "### 🎯 실습 문제 2-1\n",
        "**점수에 따른 등급 분류**\n",
        "- 90점 이상: A등급\n",
        "- 80점 이상: B등급  \n",
        "- 70점 이상: C등급\n",
        "- 70점 미만: D등급\n",
        "- 학번과 이름을 \"30200 이영희\"로 출력\n"
      ]
    },
    {
      "cell_type": "code",
      "execution_count": null,
      "metadata": {},
      "outputs": [],
      "source": [
        "# 실습 문제 2-1: 점수에 따른 등급 분류\n",
        "# 여기에 코드를 작성하세요\n"
      ]
    },
    {
      "cell_type": "markdown",
      "metadata": {
        "vscode": {
          "languageId": "raw"
        }
      },
      "source": [
        "## 📝 예제 3: 2의 배수 여부 판별\n",
        "\n",
        "**설명**: 나머지 연산자(%)를 사용하여 숫자의 특성을 판별하는 프로그램입니다.\n",
        "- `%` 연산자로 나머지 구하기\n",
        "- 나머지가 0이면 배수\n"
      ]
    },
    {
      "cell_type": "code",
      "execution_count": null,
      "metadata": {},
      "outputs": [],
      "source": [
        "# 예제 3: 2의 배수 여부 판별\n",
        "print(\"10000 김00\")\n",
        "score = int(input(\"숫자: \"))\n",
        "if score % 2 == 0:\n",
        "    print(\"2의 배수입니다\")\n",
        "else:\n",
        "    print(\"2의 배수가 아닙니다\")\n"
      ]
    },
    {
      "cell_type": "markdown",
      "metadata": {
        "vscode": {
          "languageId": "raw"
        }
      },
      "source": [
        "### 🎯 실습 문제 3-1\n",
        "**3의 배수와 5의 배수 판별**\n",
        "- 숫자를 입력받아 다음과 같이 출력:\n",
        "- 3의 배수이면서 5의 배수: \"3과 5의 공배수입니다\"\n",
        "- 3의 배수만: \"3의 배수입니다\"  \n",
        "- 5의 배수만: \"5의 배수입니다\"\n",
        "- 둘 다 아님: \"3의 배수도 5의 배수도 아닙니다\"\n"
      ]
    },
    {
      "cell_type": "code",
      "execution_count": null,
      "metadata": {},
      "outputs": [],
      "source": [
        "# 실습 문제 3-1: 3의 배수와 5의 배수 판별\n",
        "# 여기에 코드를 작성하세요\n"
      ]
    }
  ],
  "metadata": {
    "kernelspec": {
      "display_name": "jupyter_env",
      "language": "python",
      "name": "python3"
    },
    "language_info": {
      "name": "python",
      "version": "3.13.5"
    }
  },
  "nbformat": 4,
  "nbformat_minor": 2
}
