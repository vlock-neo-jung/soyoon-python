{
  "cells": [
    {
      "cell_type": "markdown",
      "metadata": {
        "vscode": {
          "languageId": "raw"
        }
      },
      "source": [
        "# 🎲 숫자 맞추기 게임\n",
        "\n",
        "## 🎯 게임 설명\n",
        "컴퓨터가 1부터 100 사이의 숫자를 하나 선택하고, 우리가 그 숫자를 맞히는 게임입니다!\n",
        "컴퓨터가 \"더 크다\" 또는 \"더 작다\"라는 힌트를 주어서 정답을 찾아가는 재미있는 게임이에요!\n"
      ]
    },
    {
      "cell_type": "code",
      "execution_count": null,
      "metadata": {},
      "outputs": [],
      "source": [
        "import random\n",
        "\n",
        "print(\"숫자 맞히기 게임에 오신 것을 환영합니다!\")\n",
        "\n",
        "number = random.randint(1, 100)  # 1부터 100 사이의 랜덤 숫자 생성\n",
        "attempts = 0  # 시도 횟수 저장용 변수\n",
        "\n",
        "while True:\n",
        "    guess = int(input(\"숫자를 입력하세요 (1~100): \"))\n",
        "    attempts += 1\n",
        "    \n",
        "    if guess < number:\n",
        "        print(\"더 큰 숫자입니다!\")\n",
        "    elif guess > number:\n",
        "        print(\"더 작은 숫자입니다!\")\n",
        "    else:\n",
        "        print(f\"정답입니다! {attempts}번 만에 맞히셨습니다.\")\n",
        "        break  # 정답을 맞히면 반복문 종료\n",
        "\n",
        "print(\"게임이 종료되었습니다. 수고하셨습니다!\")\n"
      ]
    },
    {
      "cell_type": "markdown",
      "metadata": {
        "vscode": {
          "languageId": "raw"
        }
      },
      "source": [
        "## 🏋️ 연습 문제: 주사위 굴리기 게임\n",
        "\n",
        "비슷한 수준의 연습 문제를 해보세요!\n"
      ]
    },
    {
      "cell_type": "code",
      "execution_count": null,
      "metadata": {},
      "outputs": [],
      "source": [
        "# 🎲 주사위 굴리기 게임\n",
        "# 사용자가 주사위 숫자(1~6)를 맞히는 게임\n",
        "\n",
        "import random\n",
        "\n",
        "print(\"🎲 주사위 굴리기 게임!\")\n",
        "print(\"주사위가 나올 숫자를 맞혀보세요! (1~6)\")\n",
        "\n",
        "dice = random.randint(1, 6)  # 1부터 6 사이의 랜덤 숫자\n",
        "\n",
        "guess = int(input(\"주사위 숫자를 예상해보세요: \"))\n",
        "\n",
        "print(f\"주사위 결과: {dice}\")\n",
        "\n",
        "if guess == dice:\n",
        "    print(\"🎉 정답입니다! 축하해요!\")\n",
        "else:\n",
        "    print(f\"😅 아쉽네요! 정답은 {dice}였습니다.\")\n",
        "\n",
        "print(\"게임 끝!\")\n"
      ]
    }
  ],
  "metadata": {
    "kernelspec": {
      "display_name": "jupyter_env",
      "language": "python",
      "name": "python3"
    },
    "language_info": {
      "name": "python",
      "version": "3.13.5"
    }
  },
  "nbformat": 4,
  "nbformat_minor": 2
}
