{
  "cells": [
    {
      "cell_type": "markdown",
      "metadata": {
        "vscode": {
          "languageId": "raw"
        }
      },
      "source": [
        "# 🔷 중첩 반복문 - 별 찍기 패턴\n",
        "\n",
        "이 노트북에서는 중첩 반복문을 사용한 다양한 출력 패턴을 연습해보겠습니다.\n",
        "\n",
        "## 📋 학습 목표\n",
        "- 이중 for문의 구조 이해\n",
        "- 조건문과 반복문의 조합 활용\n",
        "- 좌표 개념을 활용한 패턴 만들기\n"
      ]
    },
    {
      "cell_type": "markdown",
      "metadata": {
        "vscode": {
          "languageId": "raw"
        }
      },
      "source": [
        "## 📝 예제 1: 오른쪽 위 삼각형\n",
        "\n",
        "**설명**: x와 y 좌표를 이용해 오른쪽 위 삼각형 모양을 만듭니다.\n",
        "- `x <= y` 조건으로 삼각형 모양 결정\n",
        "- `end=\" \"`로 같은 줄에 출력\n"
      ]
    },
    {
      "cell_type": "code",
      "execution_count": null,
      "metadata": {},
      "outputs": [],
      "source": [
        "# 예제 1: 오른쪽 위 삼각형\n",
        "for x in range(1, 8):\n",
        "    for y in range(1, 8):\n",
        "        if x <= y:\n",
        "            print(\"*\", end=\" \")\n",
        "        else:\n",
        "            print(\" \", end=\" \")\n",
        "    print()  # 줄 바꿈\n"
      ]
    }
  ],
  "metadata": {
    "kernelspec": {
      "display_name": "jupyter_env",
      "language": "python",
      "name": "python3"
    },
    "language_info": {
      "name": "python",
      "version": "3.13.5"
    }
  },
  "nbformat": 4,
  "nbformat_minor": 2
}
