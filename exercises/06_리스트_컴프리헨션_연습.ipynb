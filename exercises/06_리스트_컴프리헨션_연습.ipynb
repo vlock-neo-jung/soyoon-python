{
  "cells": [
    {
      "cell_type": "markdown",
      "metadata": {
        "vscode": {
          "languageId": "raw"
        }
      },
      "source": [
        "# 📝 리스트 컴프리헨션 연습\n",
        "\n",
        "## 🎯 학습 목표\n",
        "- 리스트 컴프리헨션(List Comprehension)의 개념과 구조 이해\n",
        "- 조건문이 포함된 리스트 컴프리헨션 활용\n",
        "- 기존 for문과 리스트 컴프리헨션의 차이점 비교\n",
        "- 다양한 실습을 통한 응용 능력 향상\n",
        "\n",
        "---\n",
        "\n",
        "## 🌟 리스트 컴프리헨션이란?\n",
        "**리스트 컴프리헨션**은 파이썬에서 리스트를 간단하고 효율적으로 만드는 방법입니다!\n",
        "\n",
        "### 기본 구조\n",
        "```python\n",
        "[표현식 for 변수 in 반복가능객체 if 조건]\n",
        "```\n",
        "\n",
        "- **표현식**: 새 리스트에 넣을 값\n",
        "- **for 변수 in 반복가능객체**: 반복할 대상\n",
        "- **if 조건**: 조건에 맞는 것만 선택 (선택사항)\n"
      ]
    },
    {
      "cell_type": "markdown",
      "metadata": {
        "vscode": {
          "languageId": "raw"
        }
      },
      "source": [
        "## 📋 예제 1: 짝수 찾기 (단계별 상세 설명)\n",
        "\n",
        "### 🔍 기존 방식 vs 리스트 컴프리헨션 비교\n"
      ]
    },
    {
      "cell_type": "code",
      "execution_count": null,
      "metadata": {},
      "outputs": [],
      "source": [
        "# 원본 리스트\n",
        "numbers = [1, 2, 3, 4, 5, 6, 7, 8, 9, 10]\n",
        "print(\"🔢 원본 리스트:\", numbers)\n",
        "\n",
        "print(\"\\n\" + \"=\"*50)\n",
        "print(\"🔄 방법 1: 기존 for문 방식 (단계별 실행)\")\n",
        "print(\"=\"*50)\n",
        "\n",
        "# 기존 방식: for문으로 짝수 찾기\n",
        "even_numbers_old = []  # 빈 리스트 만들기\n",
        "\n",
        "for num in numbers:\n",
        "    print(f\"숫자 {num} 확인 중...\")\n",
        "    if num % 2 == 0:  # 2로 나눈 나머지가 0이면 짝수\n",
        "        print(f\"  → {num}은 짝수! 리스트에 추가\")\n",
        "        even_numbers_old.append(num)\n",
        "    else:\n",
        "        print(f\"  → {num}은 홀수, 건너뛰기\")\n",
        "\n",
        "print(f\"\\n최종 결과 (기존 방식): {even_numbers_old}\")\n",
        "print(f\"총 {len(even_numbers_old)}개의 짝수를 찾았습니다!\")\n"
      ]
    },
    {
      "cell_type": "code",
      "execution_count": null,
      "metadata": {},
      "outputs": [],
      "source": [
        "print(\"=\"*50)\n",
        "print(\"⚡ 방법 2: 리스트 컴프리헨션 방식\")\n",
        "print(\"=\"*50)\n",
        "\n",
        "# 리스트 컴프리헨션으로 짝수 찾기\n",
        "even_numbers_new = [num for num in numbers if num % 2 == 0]\n",
        "\n",
        "print(f\"한 줄로 완성: {even_numbers_new}\")\n",
        "print(f\"결과 비교: {even_numbers_old == even_numbers_new} (같은 결과!)\")\n",
        "\n",
        "print(\"\\n🔍 리스트 컴프리헨션 구조 분석:\")\n",
        "print(\"   [num for num in numbers if num % 2 == 0]\")\n",
        "print(\"    │     │       │             │\")\n",
        "print(\"    │     │       │             └── 조건: 2로 나눈 나머지가 0\")\n",
        "print(\"    │     │       └──────────────── 반복 대상: numbers 리스트\")\n",
        "print(\"    │     └──────────────────────── 반복 변수: num\")\n",
        "print(\"    └────────────────────────────── 표현식: num (그대로 저장)\")\n"
      ]
    },
    {
      "cell_type": "markdown",
      "metadata": {
        "vscode": {
          "languageId": "raw"
        }
      },
      "source": [
        "## 📋 예제 2: 다양한 리스트 컴프리헨션 활용\n"
      ]
    },
    {
      "cell_type": "code",
      "execution_count": null,
      "metadata": {},
      "outputs": [],
      "source": [
        "# 예제 2-1: 제곱수 만들기\n",
        "numbers = [1, 2, 3, 4, 5]\n",
        "squares = [n * n for n in numbers]\n",
        "print(f\"원본: {numbers}\")\n",
        "print(f\"제곱: {squares}\")\n",
        "\n",
        "# 예제 2-2: 홀수만 골라서 3배하기\n",
        "odd_triple = [n * 3 for n in numbers if n % 2 == 1]\n",
        "print(f\"홀수를 3배: {odd_triple}\")\n",
        "\n",
        "# 예제 2-3: 문자열에서 길이가 3 이상인 것만\n",
        "words = [\"cat\", \"dog\", \"elephant\", \"ant\", \"butterfly\"]\n",
        "long_words = [word for word in words if len(word) >= 3]\n",
        "print(f\"긴 단어들: {long_words}\")\n",
        "\n",
        "# 예제 2-4: 문자열을 대문자로 변환\n",
        "upper_words = [word.upper() for word in words]\n",
        "print(f\"대문자 변환: {upper_words}\")\n",
        "\n",
        "print(\"\\n💡 패턴 정리:\")\n",
        "print(\"1. [표현식 for 변수 in 리스트] → 모든 원소에 표현식 적용\")\n",
        "print(\"2. [표현식 for 변수 in 리스트 if 조건] → 조건에 맞는 것만 표현식 적용\")\n"
      ]
    },
    {
      "cell_type": "markdown",
      "metadata": {
        "vscode": {
          "languageId": "raw"
        }
      },
      "source": [
        "## 🏋️ 실습 문제 1: 3의 배수 찾기\n"
      ]
    },
    {
      "cell_type": "code",
      "execution_count": null,
      "metadata": {},
      "outputs": [],
      "source": [
        "# 🎯 문제: 1부터 20까지 숫자 중에서 3의 배수만 찾아보세요!\n",
        "\n",
        "numbers = list(range(1, 21))  # 1부터 20까지\n",
        "print(\"숫자 목록:\", numbers)\n",
        "\n",
        "# 여기에 리스트 컴프리헨션을 사용해서 3의 배수를 찾아보세요\n",
        "# 힌트: num % 3 == 0 조건을 사용하세요\n",
        "\n",
        "# 답안 (먼저 직접 해보세요!)\n",
        "multiples_of_3 = [num for num in numbers if num % 3 == 0]\n",
        "print(\"3의 배수:\", multiples_of_3)\n",
        "\n",
        "# 확인해보기\n",
        "print(\"\\n🔍 확인:\")\n",
        "for num in multiples_of_3:\n",
        "    print(f\"{num} ÷ 3 = {num // 3} (나머지: {num % 3})\")\n"
      ]
    },
    {
      "cell_type": "markdown",
      "metadata": {
        "vscode": {
          "languageId": "raw"
        }
      },
      "source": [
        "## 🏋️ 실습 문제 2: 제곱수와 조건 결합\n"
      ]
    },
    {
      "cell_type": "code",
      "execution_count": null,
      "metadata": {},
      "outputs": [],
      "source": [
        "# 🎯 문제: 0부터 10까지 숫자 중에서 3의 배수인 것들의 제곱을 구하세요!\n",
        "\n",
        "print(\"📝 단계별로 해결해보기:\")\n",
        "print(\"1단계: 0부터 10까지 숫자 만들기\")\n",
        "numbers = list(range(11))  # 0부터 10까지\n",
        "print(f\"숫자들: {numbers}\")\n",
        "\n",
        "print(\"\\n2단계: 3의 배수 찾기\")\n",
        "multiples = [n for n in numbers if n % 3 == 0]\n",
        "print(f\"3의 배수: {multiples}\")\n",
        "\n",
        "print(\"\\n3단계: 제곱하기\")\n",
        "squares = [n * n for n in multiples]\n",
        "print(f\"제곱들: {squares}\")\n",
        "\n",
        "print(\"\\n⚡ 한 번에 처리하기 (리스트 컴프리헨션):\")\n",
        "# 여기에 답을 작성해보세요!\n",
        "# 힌트: [n ** 2 for n in range(11) if n % 3 == 0]\n",
        "\n",
        "result = [n ** 2 for n in range(11) if n % 3 == 0]\n",
        "print(f\"결과: {result}\")\n",
        "\n",
        "print(\"\\n🔍 구조 분석:\")\n",
        "print(\"   [n ** 2 for n in range(11) if n % 3 == 0]\")\n",
        "print(\"    │        │       │            │\")\n",
        "print(\"    │        │       │            └── 조건: 3의 배수\")\n",
        "print(\"    │        │       └───────────── 0부터 10까지\")\n",
        "print(\"    │        └───────────────────── 반복 변수: n\")\n",
        "print(\"    └────────────────────────────── 표현식: n의 제곱\")\n"
      ]
    },
    {
      "cell_type": "markdown",
      "metadata": {
        "vscode": {
          "languageId": "raw"
        }
      },
      "source": [
        "## 🏋️ 실습 문제 3: 문자열 처리\n"
      ]
    },
    {
      "cell_type": "code",
      "execution_count": null,
      "metadata": {},
      "outputs": [],
      "source": [
        "# 🎯 문제: 과일 이름들 중에서 글자 수가 4개 이상인 것들을 대문자로 바꿔보세요!\n",
        "\n",
        "fruits = [\"apple\", \"kiwi\", \"banana\", \"fig\", \"orange\", \"grape\"]\n",
        "print(\"🍎 과일들:\", fruits)\n",
        "\n",
        "# 단계별 해결\n",
        "print(\"\\n📝 단계별 해결:\")\n",
        "print(\"1단계: 글자 수 확인\")\n",
        "for fruit in fruits:\n",
        "    print(f\"{fruit}: {len(fruit)}글자\")\n",
        "\n",
        "print(\"\\n2단계: 4글자 이상 찾기\")\n",
        "long_fruits = [fruit for fruit in fruits if len(fruit) >= 4]\n",
        "print(f\"4글자 이상: {long_fruits}\")\n",
        "\n",
        "print(\"\\n3단계: 대문자로 변환\")\n",
        "upper_fruits = [fruit.upper() for fruit in long_fruits]\n",
        "print(f\"대문자 변환: {upper_fruits}\")\n",
        "\n",
        "print(\"\\n⚡ 한 번에 처리하기:\")\n",
        "# 여기에 답을 작성해보세요!\n",
        "# 힌트: [fruit.upper() for fruit in fruits if len(fruit) >= 4]\n",
        "\n",
        "result = [fruit.upper() for fruit in fruits if len(fruit) >= 4]\n",
        "print(f\"최종 결과: {result}\")\n",
        "\n",
        "print(\"\\n💡 학습 포인트:\")\n",
        "print(\"• len(문자열): 문자열의 길이를 구함\")\n",
        "print(\"• 문자열.upper(): 대문자로 변환\")\n",
        "print(\"• 조건과 변환을 한 번에 처리할 수 있음!\")\n"
      ]
    },
    {
      "cell_type": "markdown",
      "metadata": {
        "vscode": {
          "languageId": "raw"
        }
      },
      "source": [
        "## 🎯 도전 문제: 스스로 해보기!\n",
        "\n",
        "다음 문제들을 리스트 컴프리헨션으로 해결해보세요:\n"
      ]
    },
    {
      "cell_type": "code",
      "execution_count": null,
      "metadata": {},
      "outputs": [],
      "source": [
        "# 🚀 도전 문제들\n",
        "\n",
        "print(\"도전 문제 1: 1부터 50까지 숫자 중에서 5의 배수만 찾기\")\n",
        "# 여기에 코드를 작성하세요!\n",
        "\n",
        "print(\"\\n도전 문제 2: ['hello', 'world', 'python', 'coding'] 중에서 길이가 5 이상인 단어들\")\n",
        "# 여기에 코드를 작성하세요!\n",
        "\n",
        "print(\"\\n도전 문제 3: 1부터 10까지 숫자의 세제곱(n³) 중에서 홀수인 것들\")\n",
        "# 여기에 코드를 작성하세요!\n",
        "\n",
        "print(\"\\n도전 문제 4: ['Apple', 'banana', 'Cherry', 'date'] 중에서 첫 글자가 대문자인 것들을 소문자로\")\n",
        "# 여기에 코드를 작성하세요!\n",
        "\n",
        "print(\"\\n\" + \"=\"*50)\n",
        "print(\"💪 정답 (먼저 스스로 해보세요!)\")\n",
        "print(\"=\"*50)\n",
        "\n",
        "# 정답들\n",
        "answer1 = [n for n in range(1, 51) if n % 5 == 0]\n",
        "print(f\"답1: {answer1}\")\n",
        "\n",
        "words = ['hello', 'world', 'python', 'coding']\n",
        "answer2 = [word for word in words if len(word) >= 5]\n",
        "print(f\"답2: {answer2}\")\n",
        "\n",
        "answer3 = [n**3 for n in range(1, 11) if (n**3) % 2 == 1]\n",
        "print(f\"답3: {answer3}\")\n",
        "\n",
        "fruits = ['Apple', 'banana', 'Cherry', 'date']\n",
        "answer4 = [fruit.lower() for fruit in fruits if fruit[0].isupper()]\n",
        "print(f\"답4: {answer4}\")\n"
      ]
    }
  ],
  "metadata": {
    "kernelspec": {
      "display_name": "jupyter_env",
      "language": "python",
      "name": "python3"
    },
    "language_info": {
      "name": "python",
      "version": "3.13.5"
    }
  },
  "nbformat": 4,
  "nbformat_minor": 2
}
