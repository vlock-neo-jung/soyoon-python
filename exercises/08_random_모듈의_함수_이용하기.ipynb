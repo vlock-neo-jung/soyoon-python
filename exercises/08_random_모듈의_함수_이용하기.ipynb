{
  "cells": [
    {
      "cell_type": "raw",
      "metadata": {
        "vscode": {
          "languageId": "raw"
        }
      },
      "source": [
        "# ✅ `random` 모듈의 함수 이용하기\n"
      ]
    },
    {
      "cell_type": "code",
      "execution_count": null,
      "metadata": {},
      "outputs": [],
      "source": [
        "import random\n",
        "\n",
        "# 1. 0과 1 사이의 난수 생성 후 출력하기\n",
        "print(random.random())\n",
        "\n",
        "# 2. 1과 10 사이의 정수 생성 후 출력하기\n",
        "print(random.randint(1, 10))\n",
        "\n",
        "# 3. 리스트에서 무작위 요소 선택 후 출력하기\n",
        "fruits = ['apple', 'banana', 'cherry']\n",
        "print(random.choice(fruits))\n",
        "\n",
        "# 4. 리스트 섞은 후 리스트 출력하기\n",
        "random.shuffle(fruits)\n",
        "print(fruits)\n"
      ]
    },
    {
      "cell_type": "raw",
      "metadata": {
        "vscode": {
          "languageId": "raw"
        }
      },
      "source": [
        "## ✅ `random` 모듈 주요 함수 요약표\n",
        "\n",
        "| 함수                              | 설명                          | 사용 예시                                  |\n",
        "| ------------------------------- | --------------------------- | -------------------------------------- |\n",
        "| `random.random()`               | 0.0 이상 1.0 미만의 실수 난수 반환     | `random.random()`                      |\n",
        "| `random.randint(a, b)`          | a 이상 b 이하의 정수 난수 반환         | `random.randint(1, 10)`                |\n",
        "| `random.uniform(a, b)`          | a 이상 b 이하의 실수 난수 반환         | `random.uniform(1.0, 10.0)`            |\n",
        "| `random.choice(seq)`            | 시퀀스에서 임의의 요소 하나 선택          | `random.choice(['apple', 'banana'])`   |\n",
        "| `random.choices(population, k)` | 복원 추출로 k개 요소 선택             | `random.choices(['a', 'b', 'c'], k=2)` |\n",
        "| `random.shuffle(seq)`           | 시퀀스 요소들을 제자리에서 섞음 (리스트만 가능) | `random.shuffle([1, 2, 3])`            |\n",
        "| `random.sample(population, k)`  | 비복원 추출로 k개 요소 선택            | `random.sample(range(10), 5)`          |\n"
      ]
    }
  ],
  "metadata": {
    "language_info": {
      "name": "python"
    }
  },
  "nbformat": 4,
  "nbformat_minor": 2
}
