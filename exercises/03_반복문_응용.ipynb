{
  "cells": [
    {
      "cell_type": "markdown",
      "metadata": {
        "vscode": {
          "languageId": "raw"
        }
      },
      "source": [
        "# 🧮 반복문 응용 연습\n",
        "\n",
        "이 노트북에서는 for문과 while문을 활용한 다양한 응용 문제를 연습해보겠습니다.\n",
        "\n",
        "## 📋 학습 목표\n",
        "- for문과 while문의 차이점 이해\n",
        "- range() 함수의 다양한 활용법\n",
        "- 누적 계산과 조건부 출력\n"
      ]
    },
    {
      "cell_type": "markdown",
      "metadata": {
        "vscode": {
          "languageId": "raw"
        }
      },
      "source": [
        "## 📝 예제 1: 1부터 20 이하의 홀수 출력\n",
        "\n",
        "**설명**: range()의 세 번째 인수(step)를 사용하여 홀수만 출력합니다.\n",
        "- `range(1, 21, 2)`: 1부터 20까지 2씩 증가\n"
      ]
    },
    {
      "cell_type": "code",
      "execution_count": null,
      "metadata": {},
      "outputs": [],
      "source": [
        "# 예제 1: 1부터 20 이하의 홀수 출력\n",
        "\n",
        "# for문 사용\n",
        "print(\"for문으로:\")\n",
        "for i in range(1, 21, 2):\n",
        "    print(i, end=\" \")\n",
        "print()\n",
        "\n",
        "# while문 사용\n",
        "print(\"while문으로:\")\n",
        "i = 1\n",
        "while i <= 20:\n",
        "    print(i, end=\" \")\n",
        "    i += 2\n",
        "print()\n"
      ]
    },
    {
      "cell_type": "markdown",
      "metadata": {
        "vscode": {
          "languageId": "raw"
        }
      },
      "source": [
        "### 🎯 실습 문제 1-1\n",
        "**1부터 50 이하의 짝수 출력**\n",
        "- for문과 while문 두 가지 방법으로 작성\n",
        "- 결과: 2 4 6 8 10 ... 50\n"
      ]
    },
    {
      "cell_type": "code",
      "execution_count": null,
      "metadata": {},
      "outputs": [],
      "source": [
        "# 실습 문제 1-1: 1부터 50 이하의 짝수 출력\n",
        "# 여기에 코드를 작성하세요\n"
      ]
    }
  ],
  "metadata": {
    "kernelspec": {
      "display_name": "jupyter_env",
      "language": "python",
      "name": "python3"
    },
    "language_info": {
      "name": "python",
      "version": "3.13.5"
    }
  },
  "nbformat": 4,
  "nbformat_minor": 2
}
