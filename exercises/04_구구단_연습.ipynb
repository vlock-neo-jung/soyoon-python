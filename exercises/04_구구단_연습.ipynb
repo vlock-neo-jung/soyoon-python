{
  "cells": [
    {
      "cell_type": "markdown",
      "metadata": {
        "vscode": {
          "languageId": "raw"
        }
      },
      "source": [
        "# 🧮 구구단 연습\n",
        "\n",
        "이 노트북에서는 구구단을 활용한 다양한 출력 형식을 연습해보겠습니다.\n",
        "\n",
        "## 📋 학습 목표\n",
        "- 중첩 반복문으로 구구단 만들기\n",
        "- 출력 형식 조정하기\n",
        "- 조건을 추가한 구구단 변형\n"
      ]
    },
    {
      "cell_type": "markdown",
      "metadata": {
        "vscode": {
          "languageId": "raw"
        }
      },
      "source": [
        "## 📝 예제: 기본 구구단 (2단~9단)\n",
        "\n",
        "**설명**: 중첩 반복문으로 구구단 전체를 출력합니다.\n",
        "- 바깥쪽 반복문: 단 (2~9)\n",
        "- 안쪽 반복문: 곱하는 수 (1~9)\n"
      ]
    },
    {
      "cell_type": "code",
      "execution_count": null,
      "metadata": {},
      "outputs": [],
      "source": [
        "# 예제: 기본 구구단 (2단~9단)\n",
        "for x in range(2, 10):\n",
        "    for y in range(1, 10):\n",
        "        print(x, \"*\", y, \"=\", x*y, end=\"  \")\n",
        "    print()  # 각 단이 끝나면 줄 바꿈\n"
      ]
    },
    {
      "cell_type": "markdown",
      "metadata": {
        "vscode": {
          "languageId": "raw"
        }
      },
      "source": [
        "### 🎯 실습 문제 1-1\n",
        "**5단만 출력하기**\n",
        "- 5 × 1 = 5부터 5 × 9 = 45까지 출력\n",
        "\n",
        "### 🎯 실습 문제 1-2  \n",
        "**짝수 단만 출력하기**\n",
        "- 2단, 4단, 6단, 8단만 출력\n",
        "\n",
        "### 🎯 실습 문제 1-3\n",
        "**구구단 가로 배치**\n",
        "- 2단, 3단, 4단을 가로로 나란히 출력\n",
        "- 예: 2×1=2  3×1=3  4×1=4\n"
      ]
    }
  ],
  "metadata": {
    "kernelspec": {
      "display_name": "jupyter_env",
      "language": "python",
      "name": "python3"
    },
    "language_info": {
      "name": "python",
      "version": "3.13.5"
    }
  },
  "nbformat": 4,
  "nbformat_minor": 2
}
