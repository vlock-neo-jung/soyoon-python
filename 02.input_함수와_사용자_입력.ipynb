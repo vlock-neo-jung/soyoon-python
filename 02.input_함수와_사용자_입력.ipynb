{
  "cells": [
    {
      "cell_type": "markdown",
      "metadata": {
        "vscode": {
          "languageId": "raw"
        }
      },
      "source": [
        "# ⌨️ input 함수와 사용자 입력\n",
        "\n",
        "안녕하세요! 오늘은 사용자로부터 정보를 입력받는 **input 함수**에 대해 배워보겠습니다.\n",
        "\n",
        "- 📥 input 함수: 사용자가 키보드로 입력한 내용을 받아오는 명령어\n",
        "- 🔄 상호작용: 컴퓨터와 사용자가 대화하듯 소통할 수 있게 해줍니다\n",
        "- 💬 개인화: 사용자의 이름, 나이 등을 입력받아 맞춤형 프로그램을 만들 수 있어요\n",
        "\n",
        "이제 진짜 살아있는 프로그램을 만들어봅시다! 🎮✨\n"
      ]
    },
    {
      "cell_type": "markdown",
      "metadata": {
        "vscode": {
          "languageId": "raw"
        }
      },
      "source": [
        "## 📖 코드 설명\n",
        "\n",
        "이번 시간에는 사용자와 상호작용하는 프로그램을 만드는 방법을 배웁니다:\n",
        "\n",
        "### 1️⃣ input 함수 기본 사용법\n",
        "- 기본 입력 받기\n",
        "- 메시지와 함께 입력 받기\n",
        "- 입력받은 내용을 변수에 저장하기\n",
        "\n",
        "### 2️⃣ 입력받은 데이터 활용하기\n",
        "- 문자열로 받은 데이터 사용하기\n",
        "- 숫자로 변환해서 계산하기\n",
        "- 여러 개의 값 입력받기\n",
        "\n",
        "### 3️⃣ 실용적인 활용 예제\n",
        "- 개인 정보 입력받기\n",
        "- 간단한 계산 프로그램 만들기\n",
        "- 인사말 생성 프로그램\n",
        "\n",
        "코드를 실행할 때는 키보드로 직접 입력해보세요!\n"
      ]
    },
    {
      "cell_type": "markdown",
      "metadata": {
        "vscode": {
          "languageId": "raw"
        }
      },
      "source": [
        "## ⌨️ input 함수 기본 사용법\n"
      ]
    },
    {
      "cell_type": "code",
      "execution_count": null,
      "metadata": {},
      "outputs": [],
      "source": [
        "# 1. 기본 입력 받기\n",
        "name = input()\n",
        "print(\"안녕하세요,\", name, \"님!\")\n",
        "\n",
        "print(\"-----\")\n",
        "\n",
        "# 2. 메시지와 함께 입력 받기  \n",
        "age = input(\"나이를 입력하세요: \")\n",
        "print(\"당신은\", age, \"살이군요!\")\n",
        "\n",
        "print(\"-----\")\n",
        "\n",
        "# 3. 좋아하는 음식 입력받기\n",
        "food = input(\"좋아하는 음식은 무엇인가요? \")\n",
        "print(food + \"를 좋아하시는군요! 맛있겠어요 😋\")\n"
      ]
    },
    {
      "cell_type": "markdown",
      "metadata": {
        "vscode": {
          "languageId": "raw"
        }
      },
      "source": [
        "## 🔢 숫자 입력받기 (타입 변환)\n"
      ]
    },
    {
      "cell_type": "code",
      "execution_count": null,
      "metadata": {},
      "outputs": [],
      "source": [
        "# 1. 나이를 숫자로 입력받아 계산하기\n",
        "age_str = input(\"나이를 입력하세요: \")\n",
        "age_num = int(age_str)  # 문자열을 숫자로 변환\n",
        "next_year = age_num + 1\n",
        "print(\"내년에는\", next_year, \"살이 되시겠네요!\")\n",
        "\n",
        "print(\"-----\")\n",
        "\n",
        "# 2. 두 숫자 입력받아 더하기\n",
        "num1 = int(input(\"첫 번째 숫자를 입력하세요: \"))\n",
        "num2 = int(input(\"두 번째 숫자를 입력하세요: \"))\n",
        "result = num1 + num2\n",
        "print(num1, \"+\", num2, \"=\", result)\n",
        "\n",
        "print(\"-----\")\n",
        "\n",
        "# 3. 소수점 숫자 입력받기\n",
        "height = float(input(\"키를 입력하세요(cm): \"))\n",
        "print(\"당신의 키는\", height, \"cm 이군요!\")\n"
      ]
    },
    {
      "cell_type": "markdown",
      "metadata": {
        "vscode": {
          "languageId": "raw"
        }
      },
      "source": [
        "## 🎮 실용적인 활용 예제\n"
      ]
    },
    {
      "cell_type": "code",
      "execution_count": null,
      "metadata": {},
      "outputs": [],
      "source": [
        "# 예제 1: 개인 정보 입력받기\n",
        "print(\"=== 개인 정보 입력 ===\")\n",
        "name = input(\"이름: \")\n",
        "age = int(input(\"나이: \"))\n",
        "hobby = input(\"취미: \")\n",
        "\n",
        "print(\"\\n=== 입력하신 정보 ===\")\n",
        "print(\"이름:\", name)\n",
        "print(\"나이:\", age, \"살\")\n",
        "print(\"취미:\", hobby)\n",
        "print(name + \"님, 반가워요! 🎉\")\n",
        "\n",
        "print(\"\\n\" + \"=\"*30)\n",
        "\n",
        "# 예제 2: 간단한 계산기\n",
        "print(\"=== 간단한 계산기 ===\")\n",
        "a = float(input(\"첫 번째 숫자: \"))\n",
        "b = float(input(\"두 번째 숫자: \"))\n",
        "\n",
        "print(\"\\n=== 계산 결과 ===\")\n",
        "print(\"덧셈:\", a, \"+\", b, \"=\", a + b)\n",
        "print(\"뺄셈:\", a, \"-\", b, \"=\", a - b)\n",
        "print(\"곱셈:\", a, \"×\", b, \"=\", a * b)\n",
        "print(\"나눗셈:\", a, \"÷\", b, \"=\", a / b)\n"
      ]
    },
    {
      "cell_type": "markdown",
      "metadata": {
        "vscode": {
          "languageId": "raw"
        }
      },
      "source": [
        "## 🔍 코드 상세 설명\n",
        "\n",
        "### input 함수 기본 사용법 설명\n",
        "\n",
        "1. **`name = input()`**: 사용자의 입력을 기다리고, 입력받은 내용을 name 변수에 저장합니다\n",
        "2. **`input(\"나이를 입력하세요: \")`**: 메시지를 보여주고 입력을 받습니다. 콜론(:) 뒤에 공백을 넣으면 더 예뻐요\n",
        "3. **`food + \"를 좋아하시는군요!\"`**: 입력받은 문자열과 다른 문자열을 연결해서 새로운 문장을 만듭니다\n",
        "\n",
        "### 타입 변환 설명\n",
        "\n",
        "4. **`int(age_str)`**: 문자열로 받은 숫자를 진짜 숫자(정수)로 변환합니다\n",
        "5. **`float(input(...))`**: 입력받은 내용을 소수점이 있는 숫자로 변환합니다\n",
        "6. **왜 변환이 필요할까요?** input 함수는 항상 문자열로 받기 때문에, 계산을 하려면 숫자로 바꿔야 합니다\n",
        "\n",
        "### 실용 예제 설명\n",
        "\n",
        "7. **`print(\"\\\\n=== 제목 ===\\\\n\")`**: \\\\n은 줄바꿈을 의미합니다. 화면을 깔끔하게 정리해줘요\n",
        "8. **여러 변수 한번에 처리**: 정보를 차례대로 입력받아서 한꺼번에 보여줄 수 있습니다\n",
        "\n",
        "💡 **핵심 포인트**: \n",
        "- input()은 항상 문자열을 반환합니다\n",
        "- 계산이 필요하면 int() 또는 float()으로 변환해야 합니다\n",
        "- 메시지를 넣으면 사용자가 무엇을 입력해야 할지 알 수 있어요!\n"
      ]
    },
    {
      "cell_type": "markdown",
      "metadata": {
        "vscode": {
          "languageId": "raw"
        }
      },
      "source": [
        "## 💪 연습 문제\n",
        "\n",
        "이제 직접 코드를 작성해보면서 input 함수를 마스터해보세요! 🚀\n"
      ]
    },
    {
      "cell_type": "markdown",
      "metadata": {
        "vscode": {
          "languageId": "raw"
        }
      },
      "source": [
        "### 문제 1: 기본 인사 프로그램\n",
        "사용자의 이름을 입력받아 \"안녕하세요, [이름]님! 오늘도 좋은 하루 되세요!\"라고 출력하는 코드를 작성하세요.\n"
      ]
    },
    {
      "cell_type": "code",
      "execution_count": null,
      "metadata": {},
      "outputs": [],
      "source": [
        "# 문제 1 답안 작성 공간\n",
        "# 힌트: input()으로 이름을 받고, print()로 인사말을 출력하세요\n"
      ]
    },
    {
      "cell_type": "markdown",
      "metadata": {
        "vscode": {
          "languageId": "raw"
        }
      },
      "source": [
        "### 문제 2: 나이 계산기\n",
        "사용자의 태어난 년도를 입력받아서 현재 나이를 계산하고 출력하는 코드를 작성하세요.\n",
        "(현재 년도는 2024년으로 가정합니다)\n"
      ]
    },
    {
      "cell_type": "code",
      "execution_count": null,
      "metadata": {},
      "outputs": [],
      "source": [
        "# 문제 2 답안 작성 공간\n",
        "# 힌트: 2024에서 태어난 년도를 빼면 나이가 나와요\n",
        "# int()를 사용해서 문자열을 숫자로 변환하는 것을 잊지 마세요!\n"
      ]
    },
    {
      "cell_type": "markdown",
      "metadata": {
        "vscode": {
          "languageId": "raw"
        }
      },
      "source": [
        "### 문제 3: 원의 넓이 계산기\n",
        "반지름을 입력받아서 원의 넓이를 계산하는 프로그램을 만드세요.\n",
        "원의 넓이 = 3.14 × 반지름 × 반지름\n"
      ]
    },
    {
      "cell_type": "code",
      "execution_count": null,
      "metadata": {},
      "outputs": [],
      "source": [
        "# 문제 3 답안 작성 공간\n",
        "# 힌트: float()을 사용해서 소수점 숫자로 입력받으세요\n",
        "# 원의 넓이 공식: 3.14 * r * r\n"
      ]
    },
    {
      "cell_type": "markdown",
      "metadata": {
        "vscode": {
          "languageId": "raw"
        }
      },
      "source": [
        "### 문제 4: 쇼핑몰 계산기\n",
        "상품 가격과 개수를 입력받아서 총 금액을 계산하고, 할인율도 입력받아서 최종 금액을 계산하는 프로그램을 만드세요.\n",
        "\n",
        "예시 출력:\n",
        "```\n",
        "상품 가격: 1000\n",
        "개수: 3\n",
        "할인율(%): 10\n",
        "총 금액: 3000원\n",
        "할인 금액: 300원\n",
        "최종 금액: 2700원\n",
        "```\n"
      ]
    },
    {
      "cell_type": "code",
      "execution_count": null,
      "metadata": {},
      "outputs": [],
      "source": [
        "# 문제 4 답안 작성 공간\n",
        "# 힌트: \n",
        "# 1. 가격 × 개수 = 총 금액\n",
        "# 2. 총 금액 × 할인율 ÷ 100 = 할인 금액  \n",
        "# 3. 총 금액 - 할인 금액 = 최종 금액\n"
      ]
    },
    {
      "cell_type": "markdown",
      "metadata": {
        "vscode": {
          "languageId": "raw"
        }
      },
      "source": [
        "### 문제 5: 종합 프로필 생성기\n",
        "다음 정보들을 입력받아서 멋진 프로필을 만드는 프로그램을 작성하세요:\n",
        "- 이름\n",
        "- 나이  \n",
        "- 좋아하는 색깔\n",
        "- 장래희망\n",
        "- 취미\n",
        "\n",
        "입력받은 정보로 다음과 같은 형태의 프로필을 출력하세요:\n",
        "```\n",
        "===================\n",
        "📋 나의 프로필\n",
        "===================\n",
        "이름: [이름]\n",
        "나이: [나이]살\n",
        "좋아하는 색: [색깔]\n",
        "꿈: [장래희망]\n",
        "취미: [취미]\n",
        "===================\n",
        "[이름]님의 멋진 프로필이 완성되었습니다! ✨\n",
        "```\n"
      ]
    },
    {
      "cell_type": "code",
      "execution_count": null,
      "metadata": {},
      "outputs": [],
      "source": [
        "# 문제 5 답안 작성 공간\n",
        "# 힌트: \n",
        "# 1. 5개의 input()을 사용해서 정보를 받으세요\n",
        "# 2. print()와 문자열 연결(+)을 사용해서 예쁘게 출력하세요\n",
        "# 3. \"=\"*19를 사용하면 = 기호를 19개 연속으로 출력할 수 있어요\n"
      ]
    }
  ],
  "metadata": {
    "kernelspec": {
      "display_name": "jupyter_env",
      "language": "python",
      "name": "python3"
    },
    "language_info": {
      "name": "python",
      "version": "3.13.5"
    }
  },
  "nbformat": 4,
  "nbformat_minor": 2
}
