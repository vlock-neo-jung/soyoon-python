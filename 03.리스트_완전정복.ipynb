{
  "cells": [
    {
      "cell_type": "markdown",
      "metadata": {
        "vscode": {
          "languageId": "raw"
        }
      },
      "source": [
        "# 📝 리스트 완전정복\n",
        "\n",
        "안녕하세요! 오늘은 파이썬의 **리스트(List)**를 완전히 마스터해보겠습니다.\n",
        "\n",
        "- 📦 리스트: 여러 개의 데이터를 순서대로 저장하는 자료구조\n",
        "- 🔧 다양한 기능: 추가, 삭제, 수정, 검색 등 모든 것이 가능해\n",
        "\n",
        "## 어떨때 사용할까? \n",
        "우리반 아이들의 이름을 모두 출력하는 프로그램을 만들어보자.\n",
        "- list 없이\n",
        "```\n",
        "student_01 = \"정소윤\"\n",
        "student_02 = \"학생 02\"\n",
        "student_03 = \"학생 03\"\n",
        "\n",
        "print(student_01, student_02...)\n",
        "\n",
        "```\n",
        "- list 사용\n",
        "```\n",
        "my_class = \"정소윤\", \"학생 01\", \"학생 02\"\n",
        "for name in my_class\n",
        "  print(name)\n",
        "```"
      ]
    },
    {
      "cell_type": "markdown",
      "metadata": {
        "vscode": {
          "languageId": "raw"
        }
      },
      "source": [
        "## 📖 학습 내용 개요\n",
        "\n",
        "오늘 배울 리스트의 모든 기능들입니다:\n",
        "\n",
        "### 1️⃣ 리스트 기본 개념\n",
        "- 빈 리스트 만들기\n",
        "- 객체와 메서드의 개념 (점 표기법)\n",
        "\n",
        "### 2️⃣ 데이터 접근하기\n",
        "- 인덱스로 항목 접근하기\n",
        "- 슬라이싱으로 여러 항목 가져오기\n",
        "\n",
        "### 3️⃣ 데이터 조작하기\n",
        "- 항목 추가하기 (append, insert)\n",
        "- 항목 수정하기\n",
        "- 항목 삭제하기 (remove, del)\n",
        "\n",
        "### 4️⃣ 리스트 활용하기\n",
        "- 항목 검색하기 (in, index)\n",
        "- 리스트 순회하기 (for 반복문)\n",
        "- 리스트 정렬하기 (sort)\n",
        "\n",
        "차근차근 따라해보면서 리스트 전문가가 되어봅시다!\n"
      ]
    },
    {
      "cell_type": "markdown",
      "metadata": {
        "vscode": {
          "languageId": "raw"
        }
      },
      "source": [
        "## 📦 리스트 만들기와 기본 개념\n"
      ]
    },
    {
      "cell_type": "code",
      "execution_count": null,
      "metadata": {},
      "outputs": [],
      "source": [
        "# 1. 빈 리스트 만들고 항목 추가하기\n",
        "heroes = []\n",
        "print(\"처음 상태:\", heroes)\n",
        "\n",
        "heroes.append(\"아이언맨\")\n",
        "print(\"아이언맨 추가:\", heroes)\n",
        "\n",
        "heroes.append(\"닥터 스트레인지\")\n",
        "print(\"닥터 스트레인지 추가:\", heroes)\n",
        "\n",
        "print(\"\\n\" + \"=\"*50)\n",
        "\n",
        "# 2. 점(.)의 의미 이해하기\n",
        "print(\"🔍 점의 의미:\")\n",
        "print(\"- 파이썬에서 모든 것은 객체(object)입니다\")\n",
        "print(\"- 리스트도 객체이며, 여러 기능(메서드)을 가지고 있어요\")\n",
        "print(\"- 객체.메서드() 형태로 기능을 사용합니다\")\n",
        "print(\"- 예: heroes.append('아이언맨') → heroes 리스트에 '아이언맨'을 추가\")\n"
      ]
    },
    {
      "cell_type": "markdown",
      "metadata": {
        "vscode": {
          "languageId": "raw"
        }
      },
      "source": [
        "## 🎯 리스트 항목 접근하기 (인덱싱)\n"
      ]
    },
    {
      "cell_type": "code",
      "execution_count": null,
      "metadata": {},
      "outputs": [],
      "source": [
        "# 인덱스로 리스트 항목에 접근하기\n",
        "letters = ['A', 'B', 'C', 'D', 'E', 'F']\n",
        "print(\"리스트:\", letters)\n",
        "print()\n",
        "\n",
        "# 양수 인덱스 (앞에서부터)\n",
        "print(\"📍 양수 인덱스로 접근:\")\n",
        "print(\"letters[0] =\", letters[0])  # 첫 번째\n",
        "print(\"letters[1] =\", letters[1])  # 두 번째\n",
        "print(\"letters[2] =\", letters[2])  # 세 번째\n",
        "\n",
        "print()\n",
        "\n",
        "# 음수 인덱스 (뒤에서부터)\n",
        "print(\"📍 음수 인덱스로 접근:\")\n",
        "print(\"letters[-1] =\", letters[-1])  # 마지막\n",
        "print(\"letters[-2] =\", letters[-2])  # 마지막에서 두 번째\n",
        "print(\"letters[-4] =\", letters[-4])  # 마지막에서 네 번째\n",
        "\n",
        "print()\n",
        "print(\"💡 인덱스 팁:\")\n",
        "print(\"- 양수 인덱스: 0부터 시작 (0, 1, 2, 3, ...)\")\n",
        "print(\"- 음수 인덱스: -1부터 시작 (-1, -2, -3, ...)\")\n",
        "print(\"- 음수 인덱스는 뒤에서부터 세는 방법이에요!\")\n"
      ]
    },
    {
      "cell_type": "markdown",
      "metadata": {
        "vscode": {
          "languageId": "raw"
        }
      },
      "source": [
        "## ✂️ 슬라이싱 (여러 항목 한번에 가져오기)\n"
      ]
    },
    {
      "cell_type": "code",
      "execution_count": null,
      "metadata": {},
      "outputs": [],
      "source": [
        "# 슬라이싱으로 여러 항목 추출하기\n",
        "letters = ['A', 'B', 'C', 'D', 'E', 'F']\n",
        "print(\"원본 리스트:\", letters)\n",
        "print()\n",
        "\n",
        "# 기본 슬라이싱 [시작:끝]\n",
        "print(\"🔹 기본 슬라이싱:\")\n",
        "print(\"letters[0:3] =\", letters[0:3])  # 0번부터 2번까지 (3번 제외)\n",
        "print(\"letters[1:4] =\", letters[1:4])  # 1번부터 3번까지 (4번 제외)\n",
        "print(\"letters[2:5] =\", letters[2:5])  # 2번부터 4번까지 (5번 제외)\n",
        "\n",
        "print()\n",
        "\n",
        "# 인덱스 생략하기\n",
        "print(\"🔹 인덱스 생략:\")\n",
        "print(\"letters[:3] =\", letters[:3])    # 처음부터 2번까지\n",
        "print(\"letters[3:] =\", letters[3:])    # 3번부터 끝까지\n",
        "print(\"letters[:] =\", letters[:])      # 전체 리스트\n",
        "\n",
        "print()\n",
        "print(\"💡 슬라이싱 규칙:\")\n",
        "print(\"- [시작:끝] 형태로 사용 (끝 인덱스는 포함되지 않아요!)\")\n",
        "print(\"- 시작 생략 → 처음부터\")\n",
        "print(\"- 끝 생략 → 끝까지\")\n",
        "print(\"- 둘 다 생략 → 전체 복사\")\n"
      ]
    },
    {
      "cell_type": "markdown",
      "metadata": {
        "vscode": {
          "languageId": "raw"
        }
      },
      "source": [
        "## 🔧 리스트 항목 수정하기\n"
      ]
    },
    {
      "cell_type": "code",
      "execution_count": null,
      "metadata": {},
      "outputs": [],
      "source": [
        "# 리스트 항목 변경하기\n",
        "heroes = [\"아이언맨\", \"토르\", \"헐크\", \"스칼렛 위치\"]\n",
        "print(\"원본 리스트:\", heroes)\n",
        "\n",
        "# 특정 인덱스의 값 변경\n",
        "heroes[1] = \"닥터 스트레인지\"\n",
        "print(\"1번 인덱스 변경 후:\", heroes)\n",
        "\n",
        "heroes[3] = \"스파이더맨\"\n",
        "print(\"3번 인덱스 변경 후:\", heroes)\n",
        "\n",
        "print()\n",
        "print(\"💡 항목 변경 방법:\")\n",
        "print(\"- 리스트[인덱스] = 새로운값\")\n",
        "print(\"- 기존 값이 새로운 값으로 완전히 바뀝니다\")\n"
      ]
    },
    {
      "cell_type": "markdown",
      "metadata": {
        "vscode": {
          "languageId": "raw"
        }
      },
      "source": [
        "## ➕ 리스트에 항목 추가하기\n"
      ]
    },
    {
      "cell_type": "code",
      "execution_count": null,
      "metadata": {},
      "outputs": [],
      "source": [
        "# 리스트에 항목 추가하는 두 가지 방법\n",
        "heroes = [\"아이언맨\", \"닥터 스트레인지\", \"헐크\", \"스칼렛 위치\"]\n",
        "print(\"시작 리스트:\", heroes)\n",
        "\n",
        "# 1. append(): 맨 끝에 추가\n",
        "heroes.append(\"스파이더맨\")\n",
        "print(\"append 후:\", heroes)\n",
        "\n",
        "# 2. insert(): 원하는 위치에 추가\n",
        "heroes.insert(1, \"배트맨\")\n",
        "print(\"insert 후:\", heroes)\n",
        "\n",
        "heroes.insert(0, \"슈퍼맨\")\n",
        "print(\"맨 앞에 insert:\", heroes)\n",
        "\n",
        "print()\n",
        "print(\"💡 추가 방법 비교:\")\n",
        "print(\"- append(값): 리스트 맨 끝에 추가\")\n",
        "print(\"- insert(위치, 값): 원하는 위치에 추가 (기존 항목들은 뒤로 밀림)\")\n"
      ]
    },
    {
      "cell_type": "markdown",
      "metadata": {
        "vscode": {
          "languageId": "raw"
        }
      },
      "source": [
        "## ➖ 리스트에서 항목 삭제하기\n"
      ]
    },
    {
      "cell_type": "code",
      "execution_count": null,
      "metadata": {},
      "outputs": [],
      "source": [
        "# 리스트에서 항목 삭제하는 방법들\n",
        "heroes = [\"아이언맨\", \"토르\", \"헐크\", \"스칼렛 위치\"]\n",
        "print(\"시작 리스트:\", heroes)\n",
        "\n",
        "# 1. remove(): 값으로 삭제\n",
        "heroes_copy1 = heroes.copy()  # 원본 보존을 위해 복사\n",
        "heroes_copy1.remove(\"스칼렛 위치\")\n",
        "print(\"remove('스칼렛 위치') 후:\", heroes_copy1)\n",
        "\n",
        "# 2. 안전한 삭제 (in으로 확인 후 삭제)\n",
        "heroes_copy2 = heroes.copy()\n",
        "if \"헐크\" in heroes_copy2:\n",
        "    heroes_copy2.remove(\"헐크\")\n",
        "    print(\"헐크가 있어서 삭제됨:\", heroes_copy2)\n",
        "else:\n",
        "    print(\"헐크가 없어서 삭제 안됨\")\n",
        "\n",
        "# 3. del: 인덱스로 삭제\n",
        "heroes_copy3 = heroes.copy()\n",
        "del heroes_copy3[0]  # 0번 인덱스 삭제\n",
        "print(\"del heroes[0] 후:\", heroes_copy3)\n",
        "\n",
        "print()\n",
        "print(\"💡 삭제 방법 비교:\")\n",
        "print(\"- remove(값): 해당 값을 찾아서 삭제 (첫 번째 발견된 것만)\")\n",
        "print(\"- del 리스트[인덱스]: 특정 위치의 항목 삭제\")\n",
        "print(\"- 삭제 전에 'in'으로 존재 여부를 확인하면 더 안전해요!\")\n"
      ]
    },
    {
      "cell_type": "markdown",
      "metadata": {
        "vscode": {
          "languageId": "raw"
        }
      },
      "source": [
        "## 🔍 리스트 검색과 순회하기\n"
      ]
    },
    {
      "cell_type": "code",
      "execution_count": null,
      "metadata": {},
      "outputs": [],
      "source": [
        "# 리스트 검색과 순회하기\n",
        "heroes = [\"아이언맨\", \"토르\", \"헐크\", \"스칼렛 위치\"]\n",
        "print(\"영웅 리스트:\", heroes)\n",
        "print()\n",
        "\n",
        "# 1. index(): 항목의 위치 찾기\n",
        "print(\"🔍 항목 위치 찾기:\")\n",
        "position = heroes.index(\"토르\")\n",
        "print(\"'토르'의 위치:\", position)\n",
        "\n",
        "# 2. in: 항목 존재 여부 확인\n",
        "print(\"\\n🔍 항목 존재 여부 확인:\")\n",
        "if \"헐크\" in heroes:\n",
        "    print(\"헐크가 리스트에 있습니다!\")\n",
        "else:\n",
        "    print(\"헐크가 리스트에 없습니다.\")\n",
        "\n",
        "if \"배트맨\" in heroes:\n",
        "    print(\"배트맨이 리스트에 있습니다!\")\n",
        "else:\n",
        "    print(\"배트맨이 리스트에 없습니다.\")\n",
        "\n",
        "# 3. for 반복문: 리스트의 모든 항목 방문\n",
        "print(\"\\n🔍 모든 영웅 출력:\")\n",
        "for hero in heroes:\n",
        "    print(f\"영웅: {hero}\")\n",
        "\n",
        "\n",
        "print()\n",
        "print(\"💡 검색과 순회 방법:\")\n",
        "print(\"- index(값): 값의 위치(인덱스) 반환\")\n",
        "print(\"- 값 in 리스트: 값이 리스트에 있으면 True, 없으면 False\")\n",
        "print(\"- for 항목 in 리스트: 리스트의 모든 항목을 하나씩 방문\")\n"
      ]
    },
    {
      "cell_type": "markdown",
      "metadata": {
        "vscode": {
          "languageId": "raw"
        }
      },
      "source": [
        "## 📊 리스트 정렬하기\n"
      ]
    },
    {
      "cell_type": "code",
      "execution_count": null,
      "metadata": {},
      "outputs": [],
      "source": [
        "# 리스트 정렬하기\n",
        "heroes = [\"아이언맨\", \"토르\", \"헐크\", \"스칼렛 위치\"]\n",
        "print(\"정렬 전:\", heroes)\n",
        "\n",
        "# 한글은 가나다 순으로 정렬됩니다\n",
        "heroes.sort()\n",
        "print(\"정렬 후:\", heroes)\n",
        "\n",
        "print()\n",
        "\n",
        "# 숫자 리스트 정렬\n",
        "numbers = [50, 10, 30, 20, 40]\n",
        "print(\"숫자 정렬 전:\", numbers)\n",
        "numbers.sort()\n",
        "print(\"숫자 정렬 후:\", numbers)\n",
        "\n",
        "# 역순 정렬\n",
        "numbers.sort(reverse=True)\n",
        "print(\"역순 정렬:\", numbers)\n",
        "\n",
        "print()\n",
        "\n",
        "# 영어 리스트 정렬\n",
        "english_heroes = [\"Iron Man\", \"Thor\", \"Hulk\", \"Scarlet Witch\"]\n",
        "print(\"영어 정렬 전:\", english_heroes)\n",
        "english_heroes.sort()\n",
        "print(\"영어 정렬 후:\", english_heroes)\n",
        "\n",
        "print()\n",
        "print(\"💡 정렬 방법:\")\n",
        "print(\"- sort(): 오름차순 정렬 (작은 것부터 큰 것 순)\")\n",
        "print(\"- sort(reverse=True): 내림차순 정렬 (큰 것부터 작은 것 순)\")\n",
        "print(\"- 한글: 가나다 순, 영어: 알파벳 순, 숫자: 크기 순으로 정렬돼요\")\n"
      ]
    },
    {
      "cell_type": "markdown",
      "metadata": {
        "vscode": {
          "languageId": "raw"
        }
      },
      "source": [
        "## 🔍 리스트 메서드 총정리\n",
        "\n",
        "지금까지 배운 리스트의 모든 기능들을 한눈에 정리해보겠습니다:\n",
        "\n",
        "| 기능 | 메서드/문법 | 설명 | 예시 |\n",
        "|------|-------------|------|------|\n",
        "| **항목 추가** | `append(값)` | 리스트 끝에 추가 | `list.append(\"새항목\")` |\n",
        "| | `insert(위치, 값)` | 특정 위치에 추가 | `list.insert(0, \"첫항목\")` |\n",
        "| **항목 삭제** | `remove(값)` | 값으로 삭제 | `list.remove(\"삭제할항목\")` |\n",
        "| | `del list[인덱스]` | 인덱스로 삭제 | `del list[0]` |\n",
        "| **항목 접근** | `list[인덱스]` | 하나의 항목 접근 | `list[0]`, `list[-1]` |\n",
        "| | `list[시작:끝]` | 슬라이싱 | `list[1:3]`, `list[:2]` |\n",
        "| **항목 수정** | `list[인덱스] = 값` | 특정 위치 값 변경 | `list[0] = \"새값\"` |\n",
        "| **검색** | `값 in list` | 존재 여부 확인 | `\"값\" in list` |\n",
        "| | `list.index(값)` | 위치 찾기 | `list.index(\"찾을값\")` |\n",
        "| **정렬** | `list.sort()` | 오름차순 정렬 | `list.sort()` |\n",
        "| | `list.sort(reverse=True)` | 내림차순 정렬 | `list.sort(reverse=True)` |\n",
        "| **순회** | `for 항목 in list:` | 모든 항목 방문 | `for item in list:` |\n"
      ]
    },
    {
      "cell_type": "markdown",
      "metadata": {
        "vscode": {
          "languageId": "raw"
        }
      },
      "source": [
        "## 💪 연습 문제\n",
        "\n",
        "이제 리스트의 모든 기능을 직접 연습해보세요! 🚀\n"
      ]
    },
    {
      "cell_type": "raw",
      "metadata": {
        "vscode": {
          "languageId": "raw"
        }
      },
      "source": [
        "### 문제 1: 나만의 쇼핑 리스트 만들기\n",
        "빈 리스트를 만들고 좋아하는 음식 5개를 차례대로 추가해보세요.\n",
        "그 다음 전체 리스트를 출력해보세요.\n"
      ]
    },
    {
      "cell_type": "code",
      "execution_count": null,
      "metadata": {},
      "outputs": [],
      "source": [
        "# 문제 1 답안 작성 공간\n",
        "# 힌트: [] 로 빈 리스트를 만들고, append()를 5번 사용하세요\n"
      ]
    },
    {
      "cell_type": "markdown",
      "metadata": {
        "vscode": {
          "languageId": "raw"
        }
      },
      "source": [
        "### 문제 2: 성적 관리 프로그램\n",
        "다음 조건에 맞는 코드를 작성하세요:\n",
        "1. 5개의 시험 점수를 리스트로 만드세요: [85, 92, 78, 96, 88]\n",
        "2. 첫 번째 점수와 마지막 점수를 출력하세요\n",
        "3. 두 번째부터 네 번째까지의 점수를 슬라이싱으로 출력하세요\n",
        "4. 가장 낮은 점수(78)를 90으로 수정하세요\n",
        "5. 수정된 리스트를 출력하세요\n"
      ]
    },
    {
      "cell_type": "code",
      "execution_count": null,
      "metadata": {},
      "outputs": [],
      "source": [
        "# 문제 2 답안 작성 공간\n",
        "# 힌트: \n",
        "# - 첫 번째: [0], 마지막: [-1]\n",
        "# - 슬라이싱: [1:4] (1번부터 3번까지)\n",
        "# - 78은 2번 인덱스에 있어요\n"
      ]
    },
    {
      "cell_type": "markdown",
      "metadata": {
        "vscode": {
          "languageId": "raw"
        }
      },
      "source": [
        "### 문제 3: 학급 명단 관리\n",
        "다음과 같은 학급 명단이 있습니다: [\"김철수\", \"이영희\", \"박민수\", \"최지혜\", \"정태윤\"]\n",
        "\n",
        "1. \"박민수\"가 전학을 가서 명단에서 삭제해주세요\n",
        "2. 새로운 학생 \"송지은\"이 전학 와서 리스트에 추가해주세요\n",
        "3. \"이영희\"의 위치(인덱스)를 찾아서 출력해주세요\n",
        "4. 명단을 가나다 순으로 정렬해주세요\n",
        "5. 정렬된 명단을 번호와 함께 출력해주세요 (1. 김철수 형태)\n"
      ]
    },
    {
      "cell_type": "code",
      "execution_count": null,
      "metadata": {},
      "outputs": [],
      "source": [
        "# 문제 3 답안 작성 공간\n",
        "# 힌트:\n",
        "# 1. remove() 사용\n",
        "# 2. append() 사용  \n",
        "# 3. index() 사용\n",
        "# 4. sort() 사용\n",
        "# 5. for문과 enumerate() 사용\n"
      ]
    },
    {
      "cell_type": "markdown",
      "metadata": {
        "vscode": {
          "languageId": "raw"
        }
      },
      "source": [
        "### 문제 4: 도서관 책 관리 시스템\n",
        "다음 조건을 만족하는 도서관 시스템을 만들어보세요:\n",
        "\n",
        "1. 빈 리스트 `books`를 만드세요\n",
        "2. 다음 책들을 순서대로 추가하세요: \"해리포터\", \"반지의 제왕\", \"나니아 연대기\"\n",
        "3. \"어린왕자\"를 맨 앞에 추가하세요 (insert 사용)\n",
        "4. 사용자가 찾는 책이 있는지 확인하는 기능을 만드세요:\n",
        "   - \"해리포터\"를 검색해서 있으면 \"도서 보유\", 없으면 \"도서 없음\"을 출력\n",
        "5. 모든 책 목록을 \"📚 도서 목록:\" 제목과 함께 번호를 매겨서 출력하세요\n"
      ]
    },
    {
      "cell_type": "code",
      "execution_count": null,
      "metadata": {},
      "outputs": [],
      "source": [
        "# 문제 4 답안 작성 공간\n",
        "# 힌트:\n",
        "# 1. books = []\n",
        "# 2. append() 3번 사용\n",
        "# 3. insert(0, \"어린왕자\")\n",
        "# 4. if \"해리포터\" in books:\n",
        "# 5. for문으로 번호와 함께 출력\n"
      ]
    }
  ],
  "metadata": {
    "kernelspec": {
      "display_name": "jupyter_env",
      "language": "python",
      "name": "python3"
    },
    "language_info": {
      "codemirror_mode": {
        "name": "ipython",
        "version": 3
      },
      "file_extension": ".py",
      "mimetype": "text/x-python",
      "name": "python",
      "nbconvert_exporter": "python",
      "pygments_lexer": "ipython3",
      "version": "3.13.5"
    }
  },
  "nbformat": 4,
  "nbformat_minor": 2
}
