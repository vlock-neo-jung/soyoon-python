{
  "cells": [
    {
      "cell_type": "markdown",
      "metadata": {
        "vscode": {
          "languageId": "raw"
        }
      },
      "source": [
        "# 📚 함수와 모듈 기초\n",
        "\n",
        "이번 시간에는 **함수**와 **모듈**에 대해 배워보겠습니다! 😊\n",
        "\n",
        "---\n",
        "\n",
        "## 🎯 학습 목표\n",
        "1. 함수가 무엇인지 이해하기\n",
        "2. 함수 만들고 사용하기\n",
        "3. 모듈이 무엇인지 이해하기\n",
        "4. 내장 모듈과 나만의 모듈 사용하기\n"
      ]
    },
    {
      "cell_type": "markdown",
      "metadata": {
        "vscode": {
          "languageId": "raw"
        }
      },
      "source": [
        "---\n",
        "\n",
        "## 🔧 1. 함수란 무엇일까요?\n",
        "\n",
        "**함수**는 특정한 일을 수행하는 코드 덩어리입니다! 📦\n",
        "\n",
        "예를 들어:\n",
        "- 두 수를 더하는 일\n",
        "- 인사말을 출력하는 일\n",
        "- 점수를 받아서 등급을 알려주는 일\n",
        "\n",
        "### 함수의 장점 ✨\n",
        "- 코드를 재사용할 수 있어요\n",
        "- 코드가 깔끔해져요\n",
        "- 수정하기 쉬워져요\n"
      ]
    },
    {
      "cell_type": "markdown",
      "metadata": {
        "vscode": {
          "languageId": "raw"
        }
      },
      "source": [
        "## 📝 2. 함수 만들어보기\n",
        "\n",
        "함수를 만드는 방법:\n",
        "\n",
        "```python\n",
        "def 함수이름():\n",
        "    실행할 코드\n",
        "```\n"
      ]
    },
    {
      "cell_type": "code",
      "execution_count": null,
      "metadata": {},
      "outputs": [],
      "source": [
        "# 간단한 인사 함수 만들기\n",
        "def say_hello():\n",
        "    print(\"안녕하세요! 😊\")\n",
        "    print(\"좋은 하루 되세요!\")\n",
        "\n",
        "# 함수 사용하기 (호출하기)\n",
        "say_hello()\n"
      ]
    },
    {
      "cell_type": "code",
      "execution_count": null,
      "metadata": {},
      "outputs": [],
      "source": [
        "# 함수는 몇 번이든 사용할 수 있어요!\n",
        "say_hello()\n",
        "print(\"---\")\n",
        "say_hello()\n"
      ]
    },
    {
      "cell_type": "markdown",
      "metadata": {
        "vscode": {
          "languageId": "raw"
        }
      },
      "source": [
        "## 🎁 3. 매개변수가 있는 함수\n",
        "\n",
        "함수에 **매개변수**를 전달할 수 있어요!\n",
        "매개변수는 함수가 받는 값이에요.\n"
      ]
    },
    {
      "cell_type": "code",
      "execution_count": null,
      "metadata": {},
      "outputs": [],
      "source": [
        "# 이름을 받아서 인사하는 함수\n",
        "def greet(name):\n",
        "    print(f\"안녕하세요, {name}님! 🎉\")\n",
        "\n",
        "# 함수 사용하기\n",
        "greet(\"철수\")\n",
        "greet(\"영희\")\n",
        "greet(\"민수\")\n"
      ]
    },
    {
      "cell_type": "code",
      "execution_count": null,
      "metadata": {},
      "outputs": [],
      "source": [
        "# 두 개의 매개변수를 받는 함수\n",
        "def introduce(name, age):\n",
        "    print(f\"제 이름은 {name}이고, 나이는 {age}살입니다.\")\n",
        "\n",
        "# 함수 사용하기\n",
        "introduce(\"지민\", 14)\n",
        "introduce(\"서연\", 15)\n"
      ]
    },
    {
      "cell_type": "markdown",
      "metadata": {
        "vscode": {
          "languageId": "raw"
        }
      },
      "source": [
        "## 🔄 4. 값을 돌려주는 함수 (return)\n",
        "\n",
        "함수가 계산한 결과를 **돌려줄** 수 있어요!\n",
        "`return`을 사용합니다.\n"
      ]
    },
    {
      "cell_type": "code",
      "execution_count": null,
      "metadata": {},
      "outputs": [],
      "source": [
        "# 두 수를 더하는 함수\n",
        "def add_numbers(a, b):\n",
        "    result = a + b\n",
        "    return result\n",
        "\n",
        "# 함수 사용하기\n",
        "answer = add_numbers(5, 3)\n",
        "print(f\"5 + 3 = {answer}\")\n",
        "\n",
        "# 바로 출력할 수도 있어요\n",
        "print(f\"10 + 7 = {add_numbers(10, 7)}\")\n"
      ]
    },
    {
      "cell_type": "markdown",
      "metadata": {
        "vscode": {
          "languageId": "raw"
        }
      },
      "source": [
        "---\n",
        "\n",
        "## 📚 5. 모듈이란 무엇일까요?\n",
        "\n",
        "**모듈**은 함수들을 모아놓은 파일이에요! 📁\n",
        "\n",
        "### 모듈의 장점 ✨\n",
        "- 코드를 여러 파일로 나눌 수 있어요\n",
        "- 다른 프로그램에서도 사용할 수 있어요\n",
        "- 협업할 때 편해요\n"
      ]
    },
    {
      "cell_type": "markdown",
      "metadata": {
        "vscode": {
          "languageId": "raw"
        }
      },
      "source": [
        "## 🔢 6. 내장 모듈 사용하기\n",
        "\n",
        "파이썬에는 이미 만들어진 유용한 모듈들이 있어요!\n",
        "\n",
        "### random 모듈 - 랜덤한 값 만들기\n"
      ]
    },
    {
      "cell_type": "code",
      "execution_count": null,
      "metadata": {},
      "outputs": [],
      "source": [
        "import random\n",
        "\n",
        "# 1부터 6까지 랜덤한 숫자 (주사위)\n",
        "dice = random.randint(1, 6)\n",
        "print(f\"주사위 결과: {dice} 🎲\")\n",
        "\n",
        "# 1부터 100까지 랜덤한 숫자\n",
        "lucky_number = random.randint(1, 100)\n",
        "print(f\"오늘의 행운 번호: {lucky_number} 🍀\")\n",
        "\n",
        "# 리스트에서 랜덤하게 선택\n",
        "colors = [\"빨강\", \"파랑\", \"노랑\", \"초록\", \"보라\"]\n",
        "random_color = random.choice(colors)\n",
        "print(f\"오늘의 컬러: {random_color} 🎨\")\n"
      ]
    },
    {
      "cell_type": "markdown",
      "metadata": {
        "vscode": {
          "languageId": "raw"
        }
      },
      "source": [
        "### math 모듈 - 수학 계산하기\n"
      ]
    },
    {
      "cell_type": "code",
      "execution_count": null,
      "metadata": {},
      "outputs": [],
      "source": [
        "import math\n",
        "\n",
        "# 제곱근 구하기\n",
        "print(f\"9의 제곱근: {math.sqrt(9)}\")\n",
        "print(f\"16의 제곱근: {math.sqrt(16)}\")\n",
        "\n",
        "# 올림, 내림, 반올림\n",
        "number = 3.7\n",
        "print(f\"원래 숫자: {number}\")\n",
        "print(f\"올림: {math.ceil(number)}\")\n",
        "print(f\"내림: {math.floor(number)}\")\n",
        "\n",
        "# 거듭제곱\n",
        "print(f\"2의 3제곱: {math.pow(2, 3)}\")\n",
        "print(f\"5의 2제곱: {math.pow(5, 2)}\")\n"
      ]
    },
    {
      "cell_type": "markdown",
      "metadata": {
        "vscode": {
          "languageId": "raw"
        }
      },
      "source": [
        "## 📁 7. 나만의 모듈 사용하기\n",
        "\n",
        "이제 미리 만들어둔 계산기 모듈을 사용해봐요!\n",
        "`calculator.py` 파일에 계산 함수들이 들어있어요.\n"
      ]
    },
    {
      "cell_type": "code",
      "execution_count": 1,
      "metadata": {},
      "outputs": [
        {
          "name": "stdout",
          "output_type": "stream",
          "text": [
            "=== 계산기 모듈 테스트 ===\n",
            "10 + 5 = 15\n",
            "10 - 5 = 5\n",
            "10 × 5 = 50\n",
            "10 ÷ 5 = 2.0\n",
            "7의 제곱 = 49\n"
          ]
        }
      ],
      "source": [
        "# calculator 모듈 불러오기\n",
        "import calculator\n",
        "\n",
        "# 모듈의 함수들 사용하기\n",
        "print(\"=== 계산기 모듈 테스트 ===\")\n",
        "print(f\"10 + 5 = {calculator.add(10, 5)}\")\n",
        "print(f\"10 - 5 = {calculator.subtract(10, 5)}\")\n",
        "print(f\"10 × 5 = {calculator.multiply(10, 5)}\")\n",
        "print(f\"10 ÷ 5 = {calculator.divide(10, 5)}\")\n",
        "print(f\"7의 제곱 = {calculator.square(7)}\")\n"
      ]
    },
    {
      "cell_type": "code",
      "execution_count": null,
      "metadata": {},
      "outputs": [],
      "source": [
        "# 평균 계산하기\n",
        "scores = [85, 92, 78, 96, 88]\n",
        "avg_score = calculator.average(scores)\n",
        "print(f\"성적: {scores}\")\n",
        "print(f\"평균 점수: {avg_score:.1f}점\")\n"
      ]
    },
    {
      "cell_type": "markdown",
      "metadata": {
        "vscode": {
          "languageId": "raw"
        }
      },
      "source": [
        "## 🔧 8. 특정 함수만 불러오기\n",
        "\n",
        "`from` 키워드를 사용하면 특정 함수만 불러올 수 있어요!\n"
      ]
    },
    {
      "cell_type": "code",
      "execution_count": null,
      "metadata": {},
      "outputs": [],
      "source": [
        "# calculator 모듈에서 add 함수만 불러오기\n",
        "from calculator import add, multiply\n",
        "\n",
        "# 이제 calculator. 없이 바로 사용할 수 있어요\n",
        "result1 = add(20, 15)\n",
        "result2 = multiply(6, 7)\n",
        "\n",
        "print(f\"20 + 15 = {result1}\")\n",
        "print(f\"6 × 7 = {result2}\")\n",
        "\n",
        "# random 모듈에서도 특정 함수만 불러올 수 있어요\n",
        "from random import randint, choice\n",
        "\n",
        "# random. 없이 바로 사용\n",
        "lucky = randint(1, 100)\n",
        "animals = [\"강아지\", \"고양이\", \"토끼\", \"햄스터\"]\n",
        "pet = choice(animals)\n",
        "\n",
        "print(f\"행운의 숫자: {lucky}\")\n",
        "print(f\"추천 반려동물: {pet} 🐾\")\n"
      ]
    },
    {
      "cell_type": "markdown",
      "metadata": {
        "vscode": {
          "languageId": "raw"
        }
      },
      "source": [
        "---\n",
        "\n",
        "## 🎯 연습 문제\n",
        "\n",
        "### 문제 1: 인사 함수 만들기\n",
        "시간에 따라 다른 인사말을 출력하는 함수를 만들어보세요.\n"
      ]
    },
    {
      "cell_type": "code",
      "execution_count": null,
      "metadata": {},
      "outputs": [],
      "source": [
        "def time_greeting(hour):\n",
        "    # 여기에 코드를 작성하세요\n",
        "    # 힌트: 6-11시는 \"좋은 아침\", 12-17시는 \"좋은 오후\", 18-21시는 \"좋은 저녁\", 나머지는 \"좋은 밤\"\n",
        "    pass\n",
        "\n",
        "# 테스트\n",
        "time_greeting(9)   # 좋은 아침이어야 함\n",
        "time_greeting(15)  # 좋은 오후여야 함\n",
        "time_greeting(20)  # 좋은 저녁이어야 함\n"
      ]
    }
  ],
  "metadata": {
    "kernelspec": {
      "display_name": "jupyter_env",
      "language": "python",
      "name": "python3"
    },
    "language_info": {
      "codemirror_mode": {
        "name": "ipython",
        "version": 3
      },
      "file_extension": ".py",
      "mimetype": "text/x-python",
      "name": "python",
      "nbconvert_exporter": "python",
      "pygments_lexer": "ipython3",
      "version": "3.13.5"
    }
  },
  "nbformat": 4,
  "nbformat_minor": 2
}
