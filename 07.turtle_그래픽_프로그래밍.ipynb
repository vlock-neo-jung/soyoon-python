{
  "cells": [
    {
      "cell_type": "markdown",
      "metadata": {
        "vscode": {
          "languageId": "raw"
        }
      },
      "source": [
        "# 🐢 Turtle 그래픽 프로그래밍\n",
        "\n",
        "이번 시간에는 **turtle 모듈**을 사용해서 재미있는 그림을 그려보겠습니다! 🎨\n",
        "\n",
        "---\n",
        "\n",
        "## 🎯 학습 목표\n",
        "1. turtle 모듈이 무엇인지 이해하기\n",
        "2. 기본 이동 명령어 익히기\n",
        "3. 펜 설정하고 색상 꾸미기\n",
        "4. 다양한 도형 그리기\n",
        "5. 반복문으로 멋진 패턴 만들기\n"
      ]
    },
    {
      "cell_type": "markdown",
      "metadata": {
        "vscode": {
          "languageId": "raw"
        }
      },
      "source": [
        "---\n",
        "\n",
        "## 🐢 1. Turtle이란 무엇일까요?\n",
        "\n",
        "**Turtle**은 거북이처럼 천천히 움직이면서 그림을 그리는 프로그래밍 방법이에요! 🐢\n",
        "\n",
        "### 거북이 그래픽의 원리\n",
        "- 거북이가 캔버스(도화지) 위를 걸어다니며 그림을 그려요\n",
        "- 거북이는 **펜**을 들고 있어서 이동하면 선이 그어져요\n",
        "- 거북이에게 명령을 내려서 원하는 그림을 만들 수 있어요\n",
        "\n",
        "### Turtle의 특징 ✨\n",
        "- 간단한 명령어로 복잡한 그림 가능\n",
        "- 수학적 개념 (각도, 좌표)을 자연스럽게 학습\n",
        "- 반복문과 함수 활용에 최적\n",
        "- 결과를 바로 눈으로 확인 가능\n"
      ]
    },
    {
      "cell_type": "markdown",
      "metadata": {
        "vscode": {
          "languageId": "raw"
        }
      },
      "source": [
        "## 📋 2. Turtle 기본 명령어 정리\n",
        "\n",
        "| 명령어 | 사용법 | 설명 |\n",
        "|--------|--------|------|\n",
        "| **이동** | `forward(거리)` | 앞으로 이동 |\n",
        "| | `backward(거리)` | 뒤로 이동 |\n",
        "| **회전** | `left(각도)` | 왼쪽으로 회전 (반시계방향) |\n",
        "| | `right(각도)` | 오른쪽으로 회전 (시계방향) |\n",
        "| **펜 설정** | `penup()` | 펜 들어올리기 (이동시 선 안그어짐) |\n",
        "| | `pendown()` | 펜 내리기 (이동시 선 그어짐) |\n",
        "| | `pensize(굵기)` | 선 굵기 설정 |\n",
        "| **색상** | `color('색상')` | 선 색상 설정 |\n",
        "| | `color('선색', '채우기색')` | 선 색상과 채우기 색상 설정 |\n",
        "| | `bgcolor('색상')` | 배경색 설정 |\n",
        "| **모양** | `shape('모양')` | 거북이 모양 변경 |\n",
        "| **기타** | `speed(속도)` | 이동 속도 설정 (0~10) |\n",
        "| | `dot(크기)` | 점 찍기 |\n",
        "| | `circle(반지름)` | 원 그리기 |\n"
      ]
    },
    {
      "cell_type": "markdown",
      "metadata": {
        "vscode": {
          "languageId": "raw"
        }
      },
      "source": [
        "## 🚀 3. 첫 번째 그림 그려보기\n",
        "\n",
        "가장 간단한 선부터 그려보겠습니다!\n"
      ]
    },
    {
      "cell_type": "code",
      "execution_count": 2,
      "metadata": {},
      "outputs": [
        {
          "ename": "Terminator",
          "evalue": "",
          "output_type": "error",
          "traceback": [
            "\u001b[31m---------------------------------------------------------------------------\u001b[39m",
            "\u001b[31mTerminator\u001b[39m                                Traceback (most recent call last)",
            "\u001b[36mCell\u001b[39m\u001b[36m \u001b[39m\u001b[32mIn[2]\u001b[39m\u001b[32m, line 4\u001b[39m\n\u001b[32m      1\u001b[39m \u001b[38;5;66;03m# 첫 번째 그림 - 간단한 선 그리기\u001b[39;00m\n\u001b[32m      2\u001b[39m \u001b[38;5;28;01mimport\u001b[39;00m\u001b[38;5;250m \u001b[39m\u001b[34;01mturtle\u001b[39;00m\n\u001b[32m----> \u001b[39m\u001b[32m4\u001b[39m \u001b[43mturtle\u001b[49m\u001b[43m.\u001b[49m\u001b[43mspeed\u001b[49m\u001b[43m(\u001b[49m\u001b[32;43m1\u001b[39;49m\u001b[43m)\u001b[49m\n\u001b[32m      5\u001b[39m \u001b[38;5;66;03m# 앞으로 100만큼 이동 (선이 그어짐)\u001b[39;00m\n\u001b[32m      6\u001b[39m turtle.forward(\u001b[32m100\u001b[39m)\n",
            "\u001b[36mFile \u001b[39m\u001b[32m<string>:5\u001b[39m, in \u001b[36mspeed\u001b[39m\u001b[34m(speed)\u001b[39m\n",
            "\u001b[31mTerminator\u001b[39m: "
          ]
        }
      ],
      "source": [
        "# 첫 번째 그림 - 간단한 선 그리기\n",
        "import turtle\n",
        "\n",
        "# 앞으로 100만큼 이동 (선이 그어짐)\n",
        "turtle.forward(100)\n",
        "\n",
        "# 그래픽 완료 (창이 유지됨)\n",
        "turtle.done()\n"
      ]
    },
    {
      "cell_type": "code",
      "execution_count": null,
      "metadata": {},
      "outputs": [],
      "source": [
        "# 기본 이동과 회전 연습\n",
        "import turtle\n",
        "\n",
        "# 앞으로 가고 돌기\n",
        "turtle.forward(100)   # 앞으로 100만큼\n",
        "turtle.left(90)       # 왼쪽으로 90도 회전\n",
        "turtle.forward(100)   # 다시 앞으로 100만큼\n",
        "turtle.left(90)       # 또 왼쪽으로 90도\n",
        "turtle.forward(100)\n",
        "turtle.left(90)\n",
        "turtle.forward(100)\n",
        "\n",
        "turtle.done()\n"
      ]
    },
    {
      "cell_type": "markdown",
      "metadata": {
        "vscode": {
          "languageId": "raw"
        }
      },
      "source": [
        "## 🎨 4. 펜 설정과 색상 꾸미기\n",
        "\n",
        "이제 거북이의 모양도 바꾸고, 색상도 예쁘게 만들어봐요!\n"
      ]
    },
    {
      "cell_type": "code",
      "execution_count": null,
      "metadata": {},
      "outputs": [],
      "source": [
        "# 거북이 꾸미기\n",
        "import turtle\n",
        "\n",
        "# 거북이 모양과 색상 설정\n",
        "turtle.shape(\"turtle\")      # 거북이 모양으로 변경\n",
        "turtle.color(\"blue\")        # 파란색으로 설정\n",
        "turtle.pensize(3)           # 선 굵기를 3으로 설정\n",
        "turtle.speed(5)             # 속도 설정 (1~10, 0은 가장 빠름)\n",
        "\n",
        "# 색상이 적용된 선 그리기\n",
        "turtle.forward(100)\n",
        "turtle.left(90)\n",
        "turtle.color(\"red\")         # 빨간색으로 변경\n",
        "turtle.forward(100)\n",
        "turtle.left(90)\n",
        "turtle.color(\"green\")       # 초록색으로 변경\n",
        "turtle.forward(100)\n",
        "turtle.left(90)\n",
        "turtle.color(\"purple\")      # 보라색으로 변경\n",
        "turtle.forward(100)\n",
        "\n",
        "turtle.done()\n"
      ]
    },
    {
      "cell_type": "markdown",
      "metadata": {
        "vscode": {
          "languageId": "raw"
        }
      },
      "source": [
        "## 🔺 5. 삼각형 그리기\n",
        "\n",
        "반복문을 사용해서 효율적으로 삼각형을 그려봅시다!\n"
      ]
    },
    {
      "cell_type": "code",
      "execution_count": null,
      "metadata": {},
      "outputs": [],
      "source": [
        "# 간단한 삼각형 그리기\n",
        "import turtle\n",
        "\n",
        "# for문으로 3번 반복\n",
        "for i in range(3):\n",
        "    turtle.forward(100)    # 앞으로 100만큼\n",
        "    turtle.left(120)       # 왼쪽으로 120도 회전 (삼각형의 외각)\n",
        "\n",
        "turtle.done()\n"
      ]
    },
    {
      "cell_type": "code",
      "execution_count": null,
      "metadata": {},
      "outputs": [],
      "source": [
        "# 예쁘게 꾸민 삼각형 (색상과 채우기)\n",
        "import turtle\n",
        "\n",
        "# 설정\n",
        "turtle.shape(\"turtle\")\n",
        "turtle.color(\"blue\", \"yellow\")    # 선은 파란색, 채우기는 노란색\n",
        "turtle.bgcolor(\"pink\")             # 배경은 분홍색\n",
        "\n",
        "# 채우기 시작\n",
        "turtle.begin_fill()\n",
        "\n",
        "# 삼각형 그리기\n",
        "for i in range(3):\n",
        "    turtle.forward(200)\n",
        "    turtle.left(120)\n",
        "\n",
        "# 채우기 끝\n",
        "turtle.end_fill()\n",
        "\n",
        "turtle.done()\n"
      ]
    },
    {
      "cell_type": "markdown",
      "metadata": {
        "vscode": {
          "languageId": "raw"
        }
      },
      "source": [
        "## 🔷 6. 다각형 그리기\n",
        "\n",
        "이번에는 원하는 다각형을 그려보겠습니다. 수학적으로 생각해봐야 해요!\n"
      ]
    },
    {
      "cell_type": "code",
      "execution_count": null,
      "metadata": {},
      "outputs": [],
      "source": [
        "# 정사각형 그리기 (4각형)\n",
        "import turtle\n",
        "\n",
        "# 정사각형: 4번 반복, 각 모서리에서 90도 회전\n",
        "for i in range(4):\n",
        "    turtle.forward(100)\n",
        "    turtle.left(90)       # 360도 ÷ 4 = 90도\n",
        "\n",
        "turtle.done()\n"
      ]
    },
    {
      "cell_type": "code",
      "execution_count": null,
      "metadata": {},
      "outputs": [],
      "source": [
        "# 원하는 다각형 그리기 (사용자 입력)\n",
        "import turtle\n",
        "\n",
        "# 몇 각형을 그릴지 입력받기\n",
        "n = int(turtle.textinput(\"다각형 그리기\", \"몇 각형을 그릴까요?\"))\n",
        "\n",
        "# n각형 그리기\n",
        "for i in range(n):\n",
        "    turtle.forward(100)\n",
        "    turtle.left(360 / n)    # 360도를 n으로 나눈 각도만큼 회전\n",
        "\n",
        "turtle.done()\n"
      ]
    },
    {
      "cell_type": "code",
      "execution_count": null,
      "metadata": {},
      "outputs": [],
      "source": [
        "# 채워진 정사각형 그리기\n",
        "import turtle\n",
        "\n",
        "# 색상 설정\n",
        "turtle.color(\"blue\", \"pink\")    # 선은 파란색, 채우기는 분홍색\n",
        "\n",
        "# 채우기 시작\n",
        "turtle.begin_fill()\n",
        "\n",
        "# 정사각형 그리기\n",
        "for i in range(4):\n",
        "    turtle.forward(100)\n",
        "    turtle.left(90)\n",
        "\n",
        "# 채우기 끝\n",
        "turtle.end_fill()\n",
        "\n",
        "# 클릭하면 창 종료\n",
        "turtle.exitonclick()\n"
      ]
    },
    {
      "cell_type": "markdown",
      "metadata": {
        "vscode": {
          "languageId": "raw"
        }
      },
      "source": [
        "## 🟢 7. 원과 패턴 그리기\n",
        "\n",
        "이제 원을 그리고, 반복해서 멋진 패턴을 만들어봅시다!\n"
      ]
    },
    {
      "cell_type": "code",
      "execution_count": null,
      "metadata": {},
      "outputs": [],
      "source": [
        "# 원 반복해서 패턴 그리기\n",
        "import turtle\n",
        "\n",
        "# 설정\n",
        "n = 50                    # 원을 50개 그리기\n",
        "turtle.bgcolor(\"black\")   # 배경을 검은색으로\n",
        "turtle.color(\"green\")     # 선 색상을 초록색으로\n",
        "turtle.speed(0)           # 가장 빠른 속도\n",
        "\n",
        "# 원을 반복해서 그려 패턴 만들기\n",
        "for i in range(n):\n",
        "    turtle.circle(80)     # 반지름 80인 원 그리기\n",
        "    turtle.left(360 / n)  # 조금씩 회전하면서 그리기\n",
        "\n",
        "turtle.done()\n"
      ]
    },
    {
      "cell_type": "markdown",
      "metadata": {
        "vscode": {
          "languageId": "raw"
        }
      },
      "source": [
        "## 🌀 8. 나선형 무늬 그리기\n",
        "\n",
        "이번에는 선을 점점 길게 그어서 나선형 무늬를 만들어봅시다!\n"
      ]
    },
    {
      "cell_type": "code",
      "execution_count": null,
      "metadata": {},
      "outputs": [],
      "source": [
        "# 나선형 무늬 그리기\n",
        "import turtle\n",
        "\n",
        "# 설정\n",
        "turtle.shape(\"turtle\")\n",
        "turtle.speed(\"fastest\")    # 가장 빠른 속도\n",
        "turtle.color(\"pink\")\n",
        "\n",
        "# 점점 긴 선으로 나선형 만들기\n",
        "for i in range(300):\n",
        "    turtle.forward(i)      # i만큼 앞으로 (점점 길어짐)\n",
        "    turtle.right(91)       # 91도씩 회전 (90도보다 1도 더 많이)\n",
        "\n",
        "turtle.done()\n"
      ]
    },
    {
      "cell_type": "markdown",
      "metadata": {
        "vscode": {
          "languageId": "raw"
        }
      },
      "source": [
        "---\n",
        "\n",
        "## 🎉 정리\n",
        "\n",
        "오늘 배운 내용:\n",
        "\n",
        "### 🐢 Turtle 기본 개념\n",
        "- **거북이 그래픽**: 거북이가 캔버스를 돌아다니며 그림을 그리는 방식\n",
        "- **좌표와 각도**: 수학적 개념을 자연스럽게 학습\n",
        "\n",
        "### 📝 기본 명령어들\n",
        "| 카테고리 | 주요 명령어 | 설명 |\n",
        "|---------|------------|------|\n",
        "| **이동** | `forward()`, `backward()` | 앞/뒤로 이동 |\n",
        "| **회전** | `left()`, `right()` | 좌/우 회전 |\n",
        "| **펜 설정** | `penup()`, `pendown()`, `pensize()` | 펜 조작 |\n",
        "| **색상** | `color()`, `bgcolor()` | 색상 설정 |\n",
        "| **도형** | `circle()`, `dot()` | 원과 점 그리기 |\n",
        "\n",
        "### 🎨 그래픽 활용\n",
        "- **채우기**: `begin_fill()`과 `end_fill()` 사용\n",
        "- **반복문**: for문으로 효율적인 도형 그리기\n",
        "- **수학적 계산**: 각도 계산으로 다양한 도형 생성\n",
        "\n",
        "### 🌟 핵심 포인트\n",
        "- **반복문 + 수학**: `360 ÷ n`으로 n각형 그리기\n",
        "- **패턴 만들기**: 간단한 도형을 반복해서 복잡한 패턴 생성\n",
        "- **창의적 표현**: 기본 도형 조합으로 다양한 그림 제작\n",
        "\n",
        "### 💡 실습한 예제들\n",
        "- 삼각형, 사각형, 다각형 그리기\n",
        "- 색상과 채우기 활용\n",
        "- 원 패턴과 나선형 무늬\n",
        "- 집 그리기 (도형 조합)\n",
        "\n",
        "**turtle을 활용해서 더 창의적인 그림에 도전해보세요!** 🎨✨\n"
      ]
    }
  ],
  "metadata": {
    "kernelspec": {
      "display_name": "jupyter_env",
      "language": "python",
      "name": "python3"
    },
    "language_info": {
      "codemirror_mode": {
        "name": "ipython",
        "version": 3
      },
      "file_extension": ".py",
      "mimetype": "text/x-python",
      "name": "python",
      "nbconvert_exporter": "python",
      "pygments_lexer": "ipython3",
      "version": "3.13.5"
    }
  },
  "nbformat": 4,
  "nbformat_minor": 2
}
