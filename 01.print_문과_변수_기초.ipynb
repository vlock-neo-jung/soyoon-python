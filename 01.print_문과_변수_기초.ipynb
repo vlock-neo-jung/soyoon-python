{
  "cells": [
    {
      "cell_type": "markdown",
      "metadata": {
        "vscode": {
          "languageId": "raw"
        }
      },
      "source": [
        "# 🖨️ print문과 변수 기초\n",
        "\n",
        "안녕하세요! 오늘은 파이썬의 가장 기본이 되는 **print문**과 **변수**에 대해 배워보겠습니다.\n",
        "\n",
        "- 📝 print문: 화면에 글자나 숫자를 출력하는 명령어\n",
        "- 📦 변수: 데이터를 저장하는 상자 같은 개념\n",
        "\n",
        "차근차근 따라해보면서 재미있게 배워봅시다! 🚀\n"
      ]
    },
    {
      "cell_type": "markdown",
      "metadata": {
        "vscode": {
          "languageId": "raw"
        }
      },
      "source": [
        "## 📖 코드 설명\n",
        "\n",
        "이번 시간에는 두 가지 중요한 내용을 배웁니다:\n",
        "\n",
        "### 1️⃣ print문 활용하기\n",
        "- 기본 문자열 출력하기\n",
        "- 숫자 계산 결과 출력하기\n",
        "- 문자열 반복과 연결하기\n",
        "- 쉼표를 이용한 여러 값 출력하기\n",
        "\n",
        "### 2️⃣ 변수 사용하기\n",
        "- 변수에 값 저장하기\n",
        "- 변수끼리 계산하기\n",
        "- 계산 결과를 새로운 변수에 저장하기\n",
        "\n",
        "실제로 코드를 실행해보면서 결과가 어떻게 나오는지 확인해보세요!\n"
      ]
    },
    {
      "cell_type": "markdown",
      "metadata": {
        "vscode": {
          "languageId": "raw"
        }
      },
      "source": [
        "## 🖨️ print문 활용 예제\n"
      ]
    },
    {
      "cell_type": "code",
      "execution_count": null,
      "metadata": {},
      "outputs": [],
      "source": [
        "# 1. 기본 문자열 출력\n",
        "print(\"Hello World!\")\n",
        "\n",
        "# 2. 숫자 계산 결과 출력\n",
        "print(2+3)\n",
        "\n",
        "# 3. 한글 문자열 출력\n",
        "print(\"안녕하세요\")\n",
        "\n",
        "# 4. 문자열 반복하기 (* 기호 사용)\n",
        "print(\"반가워요\"*50)\n",
        "\n",
        "# 5. 문자열 연결하기 (+ 기호 사용)\n",
        "print(\"강아지\"+\"고양이\")\n",
        "\n",
        "# 6. 쉼표로 여러 값 출력하기\n",
        "print(\"강아지\",\"고양이\")\n"
      ]
    },
    {
      "cell_type": "markdown",
      "metadata": {
        "vscode": {
          "languageId": "raw"
        }
      },
      "source": [
        "## 📦 변수 사용 예제\n"
      ]
    },
    {
      "cell_type": "code",
      "execution_count": null,
      "metadata": {},
      "outputs": [],
      "source": [
        "# 1. 변수에 값 저장하기\n",
        "x = 100\n",
        "y = 200\n",
        "\n",
        "# 2. 변수들을 계산해서 새로운 변수에 저장하기\n",
        "sum = x + y\n",
        "\n",
        "# 3. 계산 결과 출력하기\n",
        "print(sum)\n"
      ]
    },
    {
      "cell_type": "markdown",
      "metadata": {
        "vscode": {
          "languageId": "raw"
        }
      },
      "source": [
        "## 🔍 코드 상세 설명\n",
        "\n",
        "### print문 예제 설명\n",
        "\n",
        "1. **`print(\"Hello World!\")`**: 따옴표 안의 글자를 그대로 화면에 출력합니다\n",
        "2. **`print(2+3)`**: 2와 3을 더한 계산 결과인 5를 출력합니다\n",
        "3. **`print(\"안녕하세요\")`**: 한글도 따옴표 안에 쓰면 그대로 출력됩니다\n",
        "4. **`print(\"반가워요\"*50)`**: \"반가워요\"라는 글자를 50번 반복해서 출력합니다\n",
        "5. **`print(\"강아지\"+\"고양이\")`**: 두 글자를 붙여서 \"강아지고양이\"로 출력합니다\n",
        "6. **`print(\"강아지\",\"고양이\")`**: 쉼표로 구분하면 사이에 공백을 넣어서 출력합니다\n",
        "\n",
        "### 변수 예제 설명\n",
        "\n",
        "1. **`x = 100`**: x라는 이름의 상자에 100이라는 숫자를 저장합니다\n",
        "2. **`y = 200`**: y라는 이름의 상자에 200이라는 숫자를 저장합니다\n",
        "3. **`sum = x + y`**: x상자의 값(100)과 y상자의 값(200)을 더해서 sum이라는 새로운 상자에 저장합니다\n",
        "4. **`print(sum)`**: sum 상자에 들어있는 값(300)을 화면에 출력합니다\n",
        "\n",
        "💡 **핵심 포인트**: 변수는 값을 저장하는 상자라고 생각하면 쉬워요!\n"
      ]
    },
    {
      "cell_type": "markdown",
      "metadata": {
        "vscode": {
          "languageId": "raw"
        }
      },
      "source": [
        "## 💪 연습 문제\n",
        "\n",
        "배운 내용을 직접 연습해보세요!\n"
      ]
    },
    {
      "cell_type": "markdown",
      "metadata": {
        "vscode": {
          "languageId": "raw"
        }
      },
      "source": [
        "### 문제 1: 기초 print문 연습\n",
        "자신의 이름을 출력하는 코드를 작성해보세요.\n"
      ]
    },
    {
      "cell_type": "code",
      "execution_count": 4,
      "metadata": {},
      "outputs": [],
      "source": [
        "# 여기에 자신의 이름을 출력하는 코드를 작성하세요\n",
        "# 예시: print(\"홍길동\")\n"
      ]
    },
    {
      "cell_type": "markdown",
      "metadata": {
        "vscode": {
          "languageId": "raw"
        }
      },
      "source": [
        "### 문제 2: 계산과 출력 연습\n",
        "10 × 5의 계산 결과를 출력해보세요. (곱하기는 * 기호를 사용합니다)\n"
      ]
    },
    {
      "cell_type": "code",
      "execution_count": 5,
      "metadata": {},
      "outputs": [],
      "source": [
        "# 10 × 5를 계산해서 출력하는 코드를 작성하세요\n"
      ]
    },
    {
      "cell_type": "markdown",
      "metadata": {
        "vscode": {
          "languageId": "raw"
        }
      },
      "source": [
        "### 문제 3: 변수 활용 연습\n",
        "다음 조건에 맞는 코드를 작성해보세요:\n",
        "- a라는 변수에 30을 저장\n",
        "- b라는 변수에 70을 저장\n",
        "- a와 b를 빼기한 결과를 result라는 변수에 저장\n",
        "- result의 값을 출력\n"
      ]
    },
    {
      "cell_type": "code",
      "execution_count": 6,
      "metadata": {},
      "outputs": [],
      "source": [
        "# 위 조건에 맞는 코드를 작성하세요\n"
      ]
    },
    {
      "cell_type": "markdown",
      "metadata": {
        "vscode": {
          "languageId": "raw"
        }
      },
      "source": [
        "### 문제 4: 문자열 조작 연습\n",
        "\"파이썬\"이라는 글자를 10번 반복해서 출력해보세요.\n"
      ]
    },
    {
      "cell_type": "code",
      "execution_count": 7,
      "metadata": {},
      "outputs": [],
      "source": [
        "# \"파이썬\"을 10번 반복해서 출력하는 코드를 작성하세요\n"
      ]
    },
    {
      "cell_type": "markdown",
      "metadata": {
        "vscode": {
          "languageId": "raw"
        }
      },
      "source": [
        "### 문제 5: 종합 응용 문제\n",
        "자신의 나이를 age라는 변수에 저장하고, \"나는 OO살입니다\"라는 형태로 출력해보세요.\n",
        "(힌트: 쉼표를 이용해서 문자열과 변수를 함께 출력할 수 있어요)\n"
      ]
    },
    {
      "cell_type": "code",
      "execution_count": 8,
      "metadata": {},
      "outputs": [],
      "source": [
        "# 나이를 변수에 저장하고 문장으로 출력하는 코드를 작성하세요\n"
      ]
    }
  ],
  "metadata": {
    "kernelspec": {
      "display_name": "jupyter_env",
      "language": "python",
      "name": "python3"
    },
    "language_info": {
      "codemirror_mode": {
        "name": "ipython",
        "version": 3
      },
      "file_extension": ".py",
      "mimetype": "text/x-python",
      "name": "python",
      "nbconvert_exporter": "python",
      "pygments_lexer": "ipython3",
      "version": "3.13.5"
    }
  },
  "nbformat": 4,
  "nbformat_minor": 2
}
